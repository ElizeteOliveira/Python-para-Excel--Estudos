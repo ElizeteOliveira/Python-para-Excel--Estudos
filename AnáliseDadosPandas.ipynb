{
 "cells": [
  {
   "cell_type": "markdown",
   "metadata": {},
   "source": [
    "# Análise de Dados com pandas \n",
    "O pandas (planilha em python) é uma biblioteca de análise de dados python. Os superpoderes importantes dela é a vetorização(permite escrever o código conciso e baseaddo em array) e o alinhamentos de dados (garante que não haja incompatibilidade de dados ao trabalhar com vários conjuntos de dados).\n",
    "\n",
    "- Análise de Dados (seja para DataScience, seja para trabalhar de forma integrada com arquivos em Excel e Banco de Dados)\n",
    "- Melhor biblioteca/módulo para trabalhar com quantidades enormes de informações\n",
    "- Uma mistura de listas e dicionários de forma muito eficiente\n",
    "\n",
    "Obs.1: É necessário importar a sua biblioteca inicialmente ao código(desde que esteja instalado essa biblioteca **pip install pandas**).\n",
    "Obs.2: O **as** atribuir ao módulo da biblioteca **pandas** um apelido curto **pd**\n",
    "- import pandas as pd \n",
    "O dataframe é umas principais estruturas de dados do pandas. ELe é um objeto no pandas que essencialmente é uma tabela. Ele compom-se\n",
    "- índice (corresponde as linhas) -> funcionam como listas\n",
    "- colunas -> funcionam como \"chaves de dicionario\"\n",
    "- dados (o que esta contido dentro de cada coluna/linha)\n",
    "        dataframe = pd.read_excel(\"arquivo_com_extensao.xlsx\")\n",
    "\n",
    "* Uma maneira de criar um datafraem é fornecer os dados como uma lista aninhada, juntamente com valores para **columns** e **index**\n",
    "data = [[\"Mark\", 55, \"Italy\", 4.5, \"Europe\"],\n",
    "        [\"John\", 33, \"USA\", 6.7, \"America\"],\n",
    "        [\"Tim\", 41, \"USA\", 3.9, \"America\"],\n",
    "        [\"Jenny\", 12, \"Germany\", 9.0, \"Europe\"]]\n",
    "df = pd.DataFrame(data=data,\n",
    "                  columns=[\"name\", \"age\", \"country\",\n",
    "                           \"score\", \"continent\"],\n",
    "                  index=[1001, 1000, 1002, 1003])\n",
    "df\n",
    "* Temos um dataframe:\n",
    "\n",
    "vendas_df['coluna_x'] -> uma lista com os valores da coluna_x (em formato dataframe, é um dataframe com 1 coluna só)<br>\n",
    "vendas_df[0] -> NÃO FUNCIONA ASSIM PARA DATAFRAMES<br>\n",
    "vendas_df[:3] -> pega até a linha de índice 3 do dataframe<br>\n",
    "vendas_df[['coluna_x', 'coluna_y', 'coluna_z']] -> cria um novo dataframe com as colunas coluna_x, coluna_y e coluna_z<br>\n",
    "vendas_df['coluna_x'][0] -> pega o itemd a 1ª linha da coluna coluna_x<br>\n",
    "\n",
    "1. Obtem informações básicas: números de pontos de dados e os tipos de dados de cada coluna\n",
    "- df.info()\n",
    "Obs.: Se for dados da coluna somente: df.dtypes\n",
    "\n",
    "2. Criar um indice: Um indice permitirar que o pandas procure mais rapidamente e ele é essencial para combinar dois DataFrames\n",
    "- df.index\n",
    "var_criada_dataframe.index #Chama os index (equivale as linhas)<br>\n",
    "    \n",
    "    Obs.1: Se quiser pode dar nome ao indice -> df.index.name = \"nome_indice\"<br>\n",
    "        var_criada_dataframe.index.name = \"User ID\" #Dar um nome ao indice<br>\n",
    "\n",
    "    Obs.2: Para transforma um indice em uma coluna comum -> df.reset_index()<br>\n",
    "        var_criada_dataframe.reset_index() #Transforma o indice em coluna<br>\n",
    "\n",
    "    Obs.3: Para definir um novo indice -> df.reset_index().set_index(\"nome_novo_indice\")\n",
    "        var_criada_dataframe.reset_index().set_index(\"name\") #Transforma o \"nome\" da coluna em indice<br>\n",
    "\n",
    "    Obs.4: Recebe de volta uma copia do DF com aquele metodo aplicado, deixando o DF original intocado<br>\n",
    "        var_criada_dataframe = var_criada_dataframe.reset_index()<br>\n",
    "\n",
    "    Obs.5: Altera o indice<br>\n",
    "        var_criada_dataframe.reindex([999, 1000, 1001, 1004]) #Alterar um indice<br>\n",
    "\n",
    "    Obs.6: Classifica um indice<br>\n",
    "        var_criada_dataframe.sort_index() #Classificar um indice<br>\n",
    "\n",
    "    Obs.7: Classificar as linhas por uma ou mais coluna<br>\n",
    "        var_criada_dataframe.sort_values([\"continent\", \"age\"])<br>\n",
    "\n",
    "3. Criar colunas:\n",
    "- df.columns\n",
    "\n",
    "\n",
    "* Tirar as colunas inúteis ou pegar apenas as colunas que quisermos\n",
    "- .drop([coluna1, coluna2, coluna3]) -> retira as colunas: coluna1, coluna2, coluna3\n",
    "* Juntar os dataframes para ter 1 único dataframe com tudo\n",
    "- novo_dataframe = dataframe1.merge(dataframe2, on='coluna')\n",
    "Obs: O merge precisa das colunas com o mesmo nome para funcionar. Se não tiver, você precisa alterar o nome da coluna com o .rename<br>\n",
    "dataframe.rename({'coluna1': 'novo_coluna_1'})\n",
    "\n",
    "\n",
    "\n",
    "## Métodos para analisar nossas tabelas (dataframes)\n",
    "\n",
    "Usar os plot de gráfico padrões do pandas, mas no projeto de DataScience veremos outras mais bonitas e também muito práticas.\n",
    "\n",
    "OBS: O pandas usa o matplotlib (que vimos na seção de \"módulos e bibliotecas\") para plotar gráficos.<br>\n",
    "Se quiser personalizar mais do que o padrão do pandas, importe o matplotlib e use os métodos do matplotlib\n",
    "\n",
    "- Usaremos o método .value_counts() para contar quantas vezes cada valor do Dataframe aparece\n",
    "- Usaremos o método .plot() para exibir um gráfico\n",
    "- Usaremos o .groupby para agrupar o nosso dataframe, de acordo com o que queremos (somando as quantidades de vendas, por exemplo)\n",
    "- Agora precisamos pegar o maior valor. Temos 2 formas:\n",
    "    1. Ordenar o dataframe em ordem decrescente de Quantidade Vendida\n",
    "        - Método .sort_values\n",
    "    2. Pegar o Maior valor diretamente\n",
    "        - Métodos .max() e .idxmax()\n",
    "        1. min() e max()\n",
    "        2. idxmin() e idxmax()\n"
   ]
  },
  {
   "cell_type": "code",
   "execution_count": 65,
   "metadata": {},
   "outputs": [
    {
     "name": "stdout",
     "output_type": "stream",
     "text": [
      "       name  age  country  score continent\n",
      "1001   Mark   55    Italy    4.5    Europe\n",
      "1000   John   33      USA    6.7   America\n",
      "1002    Tim   41      USA    3.9   America\n",
      "1003  Jenny   12  Germany    9.0    Europe\n"
     ]
    }
   ],
   "source": [
    "import pandas as pd \n",
    "#informar o local do arquivo dentro do chamado\n",
    "#variavel_dataframe = pd.read_excel(r'C:\\Users\\E1180062\\Downloads\\Python para Excel-Estudos\\Relatório Geral das Amostras.xlsx') \n",
    "#imprimir a tabela\n",
    "#print(variavel_dataframe)\n",
    "#às vezes precisaremos mudar o encoding. Possiveis valores para testar:\n",
    "#encoding='latin1', encoding='ISO-8859-1', encoding='utf-8' ou então encoding='cp1252'\n",
    "\n",
    "#criação de dataframe\n",
    "criacao_dataframe = [[\"Mark\", 55, \"Italy\", 4.5, \"Europe\"],\n",
    "                    [\"John\", 33, \"USA\", 6.7, \"America\"],\n",
    "                    [\"Tim\", 41, \"USA\", 3.9, \"America\"],\n",
    "                    [\"Jenny\", 12, \"Germany\", 9.0, \"Europe\"]]\n",
    "var_criada_dataframe = pd.DataFrame(data=criacao_dataframe,\n",
    "                                    columns=[\"name\", \"age\", \"country\",\n",
    "                                                \"score\", \"continent\"],\n",
    "                                    index=[1001, 1000, 1002, 1003])\n",
    "print(var_criada_dataframe)"
   ]
  },
  {
   "cell_type": "code",
   "execution_count": 66,
   "metadata": {},
   "outputs": [
    {
     "name": "stdout",
     "output_type": "stream",
     "text": [
      "<class 'pandas.core.frame.DataFrame'>\n",
      "Index: 4 entries, 1001 to 1003\n",
      "Data columns (total 5 columns):\n",
      " #   Column     Non-Null Count  Dtype  \n",
      "---  ------     --------------  -----  \n",
      " 0   name       4 non-null      object \n",
      " 1   age        4 non-null      int64  \n",
      " 2   country    4 non-null      object \n",
      " 3   score      4 non-null      float64\n",
      " 4   continent  4 non-null      object \n",
      "dtypes: float64(1), int64(1), object(3)\n",
      "memory usage: 192.0+ bytes\n"
     ]
    }
   ],
   "source": [
    "var_criada_dataframe.info()"
   ]
  },
  {
   "cell_type": "code",
   "execution_count": 67,
   "metadata": {},
   "outputs": [
    {
     "data": {
      "text/plain": [
       "name          object\n",
       "age            int64\n",
       "country       object\n",
       "score        float64\n",
       "continent     object\n",
       "dtype: object"
      ]
     },
     "execution_count": 67,
     "metadata": {},
     "output_type": "execute_result"
    }
   ],
   "source": [
    "var_criada_dataframe.dtypes #Obtem informações basicas"
   ]
  },
  {
   "cell_type": "code",
   "execution_count": 68,
   "metadata": {},
   "outputs": [
    {
     "data": {
      "text/plain": [
       "Index([1001, 1000, 1002, 1003], dtype='int64')"
      ]
     },
     "execution_count": 68,
     "metadata": {},
     "output_type": "execute_result"
    }
   ],
   "source": [
    "var_criada_dataframe.index #Chama os index (equivale as linhas)\n"
   ]
  },
  {
   "cell_type": "code",
   "execution_count": 69,
   "metadata": {},
   "outputs": [
    {
     "name": "stdout",
     "output_type": "stream",
     "text": [
      "          name  age  country  score continent\n",
      "User ID                                      \n",
      "1001      Mark   55    Italy    4.5    Europe\n",
      "1000      John   33      USA    6.7   America\n",
      "1002       Tim   41      USA    3.9   America\n",
      "1003     Jenny   12  Germany    9.0    Europe\n"
     ]
    }
   ],
   "source": [
    "var_criada_dataframe.index.name = \"User ID\" #Dar um nome ao indice\n",
    "print(var_criada_dataframe)"
   ]
  },
  {
   "cell_type": "code",
   "execution_count": null,
   "metadata": {},
   "outputs": [],
   "source": [
    "var_criada_dataframe.reset_index() #Transforma o indice em coluna"
   ]
  },
  {
   "cell_type": "code",
   "execution_count": null,
   "metadata": {},
   "outputs": [],
   "source": [
    "var_criada_dataframe.reset_index().set_index(\"name\") #Transforma o \"nome\" da coluna em indice"
   ]
  },
  {
   "cell_type": "code",
   "execution_count": null,
   "metadata": {},
   "outputs": [],
   "source": [
    "var_criada_dataframe = var_criada_dataframe.reset_index()\n",
    "print(var_criada_dataframe)"
   ]
  },
  {
   "cell_type": "code",
   "execution_count": null,
   "metadata": {},
   "outputs": [],
   "source": [
    "var_criada_dataframe.reindex([999, 1000, 1001, 1004]) #Alterar um indice\n",
    "print(var_criada_dataframe)"
   ]
  },
  {
   "cell_type": "code",
   "execution_count": null,
   "metadata": {},
   "outputs": [],
   "source": [
    "var_criada_dataframe.sort_index() #Classificar um indice"
   ]
  },
  {
   "cell_type": "code",
   "execution_count": null,
   "metadata": {},
   "outputs": [],
   "source": [
    "var_criada_dataframe.sort_values([\"continent\", \"age\"])"
   ]
  },
  {
   "cell_type": "code",
   "execution_count": 70,
   "metadata": {},
   "outputs": [
    {
     "data": {
      "text/plain": [
       "Index(['name', 'age', 'country', 'score', 'continent'], dtype='object')"
      ]
     },
     "execution_count": 70,
     "metadata": {},
     "output_type": "execute_result"
    }
   ],
   "source": [
    "var_criada_dataframe.columns #Obtem informações sobre as colunas"
   ]
  },
  {
   "cell_type": "code",
   "execution_count": 71,
   "metadata": {},
   "outputs": [
    {
     "name": "stdout",
     "output_type": "stream",
     "text": [
      "properties   name  age  country  score continent\n",
      "User ID                                         \n",
      "1001         Mark   55    Italy    4.5    Europe\n",
      "1000         John   33      USA    6.7   America\n",
      "1002          Tim   41      USA    3.9   America\n",
      "1003        Jenny   12  Germany    9.0    Europe\n"
     ]
    }
   ],
   "source": [
    "var_criada_dataframe.columns.name = \"properties\" #Atribui um nome aos cabeçalhos das colunas\n",
    "print(var_criada_dataframe)"
   ]
  },
  {
   "cell_type": "code",
   "execution_count": null,
   "metadata": {},
   "outputs": [],
   "source": [
    "var_criada_dataframe.rename(columns={\"name\": \"First Name\", \"age\": \"Age\"}) #Renomeia os nomes das Colunas"
   ]
  },
  {
   "cell_type": "code",
   "execution_count": 72,
   "metadata": {},
   "outputs": [
    {
     "data": {
      "text/html": [
       "<div>\n",
       "<style scoped>\n",
       "    .dataframe tbody tr th:only-of-type {\n",
       "        vertical-align: middle;\n",
       "    }\n",
       "\n",
       "    .dataframe tbody tr th {\n",
       "        vertical-align: top;\n",
       "    }\n",
       "\n",
       "    .dataframe thead th {\n",
       "        text-align: right;\n",
       "    }\n",
       "</style>\n",
       "<table border=\"1\" class=\"dataframe\">\n",
       "  <thead>\n",
       "    <tr style=\"text-align: right;\">\n",
       "      <th>properties</th>\n",
       "      <th>age</th>\n",
       "      <th>score</th>\n",
       "      <th>continent</th>\n",
       "    </tr>\n",
       "    <tr>\n",
       "      <th>User ID</th>\n",
       "      <th></th>\n",
       "      <th></th>\n",
       "      <th></th>\n",
       "    </tr>\n",
       "  </thead>\n",
       "  <tbody>\n",
       "    <tr>\n",
       "      <th>1001</th>\n",
       "      <td>55</td>\n",
       "      <td>4.5</td>\n",
       "      <td>Europe</td>\n",
       "    </tr>\n",
       "    <tr>\n",
       "      <th>1002</th>\n",
       "      <td>41</td>\n",
       "      <td>3.9</td>\n",
       "      <td>America</td>\n",
       "    </tr>\n",
       "  </tbody>\n",
       "</table>\n",
       "</div>"
      ],
      "text/plain": [
       "properties  age  score continent\n",
       "User ID                         \n",
       "1001         55    4.5    Europe\n",
       "1002         41    3.9   America"
      ]
     },
     "execution_count": 72,
     "metadata": {},
     "output_type": "execute_result"
    }
   ],
   "source": [
    "var_criada_dataframe.drop(columns=[\"name\", \"country\"], index=[1000, 1003])"
   ]
  },
  {
   "cell_type": "code",
   "execution_count": 73,
   "metadata": {},
   "outputs": [
    {
     "data": {
      "text/html": [
       "<div>\n",
       "<style scoped>\n",
       "    .dataframe tbody tr th:only-of-type {\n",
       "        vertical-align: middle;\n",
       "    }\n",
       "\n",
       "    .dataframe tbody tr th {\n",
       "        vertical-align: top;\n",
       "    }\n",
       "\n",
       "    .dataframe thead th {\n",
       "        text-align: right;\n",
       "    }\n",
       "</style>\n",
       "<table border=\"1\" class=\"dataframe\">\n",
       "  <thead>\n",
       "    <tr style=\"text-align: right;\">\n",
       "      <th>User ID</th>\n",
       "      <th>1001</th>\n",
       "      <th>1000</th>\n",
       "      <th>1002</th>\n",
       "      <th>1003</th>\n",
       "    </tr>\n",
       "    <tr>\n",
       "      <th>properties</th>\n",
       "      <th></th>\n",
       "      <th></th>\n",
       "      <th></th>\n",
       "      <th></th>\n",
       "    </tr>\n",
       "  </thead>\n",
       "  <tbody>\n",
       "    <tr>\n",
       "      <th>name</th>\n",
       "      <td>Mark</td>\n",
       "      <td>John</td>\n",
       "      <td>Tim</td>\n",
       "      <td>Jenny</td>\n",
       "    </tr>\n",
       "    <tr>\n",
       "      <th>age</th>\n",
       "      <td>55</td>\n",
       "      <td>33</td>\n",
       "      <td>41</td>\n",
       "      <td>12</td>\n",
       "    </tr>\n",
       "    <tr>\n",
       "      <th>country</th>\n",
       "      <td>Italy</td>\n",
       "      <td>USA</td>\n",
       "      <td>USA</td>\n",
       "      <td>Germany</td>\n",
       "    </tr>\n",
       "    <tr>\n",
       "      <th>score</th>\n",
       "      <td>4.5</td>\n",
       "      <td>6.7</td>\n",
       "      <td>3.9</td>\n",
       "      <td>9.0</td>\n",
       "    </tr>\n",
       "    <tr>\n",
       "      <th>continent</th>\n",
       "      <td>Europe</td>\n",
       "      <td>America</td>\n",
       "      <td>America</td>\n",
       "      <td>Europe</td>\n",
       "    </tr>\n",
       "  </tbody>\n",
       "</table>\n",
       "</div>"
      ],
      "text/plain": [
       "User ID       1001     1000     1002     1003\n",
       "properties                                   \n",
       "name          Mark     John      Tim    Jenny\n",
       "age             55       33       41       12\n",
       "country      Italy      USA      USA  Germany\n",
       "score          4.5      6.7      3.9      9.0\n",
       "continent   Europe  America  America   Europe"
      ]
     },
     "execution_count": 73,
     "metadata": {},
     "output_type": "execute_result"
    }
   ],
   "source": [
    "var_criada_dataframe.T #Atalho para df.transpose()->Altera suas colunas em linhas e vice-versa transpondo o DF"
   ]
  },
  {
   "cell_type": "code",
   "execution_count": 74,
   "metadata": {},
   "outputs": [
    {
     "data": {
      "text/html": [
       "<div>\n",
       "<style scoped>\n",
       "    .dataframe tbody tr th:only-of-type {\n",
       "        vertical-align: middle;\n",
       "    }\n",
       "\n",
       "    .dataframe tbody tr th {\n",
       "        vertical-align: top;\n",
       "    }\n",
       "\n",
       "    .dataframe thead th {\n",
       "        text-align: right;\n",
       "    }\n",
       "</style>\n",
       "<table border=\"1\" class=\"dataframe\">\n",
       "  <thead>\n",
       "    <tr style=\"text-align: right;\">\n",
       "      <th>properties</th>\n",
       "      <th>continent</th>\n",
       "      <th>country</th>\n",
       "      <th>name</th>\n",
       "      <th>age</th>\n",
       "      <th>score</th>\n",
       "    </tr>\n",
       "    <tr>\n",
       "      <th>User ID</th>\n",
       "      <th></th>\n",
       "      <th></th>\n",
       "      <th></th>\n",
       "      <th></th>\n",
       "      <th></th>\n",
       "    </tr>\n",
       "  </thead>\n",
       "  <tbody>\n",
       "    <tr>\n",
       "      <th>1001</th>\n",
       "      <td>Europe</td>\n",
       "      <td>Italy</td>\n",
       "      <td>Mark</td>\n",
       "      <td>55</td>\n",
       "      <td>4.5</td>\n",
       "    </tr>\n",
       "    <tr>\n",
       "      <th>1000</th>\n",
       "      <td>America</td>\n",
       "      <td>USA</td>\n",
       "      <td>John</td>\n",
       "      <td>33</td>\n",
       "      <td>6.7</td>\n",
       "    </tr>\n",
       "    <tr>\n",
       "      <th>1002</th>\n",
       "      <td>America</td>\n",
       "      <td>USA</td>\n",
       "      <td>Tim</td>\n",
       "      <td>41</td>\n",
       "      <td>3.9</td>\n",
       "    </tr>\n",
       "    <tr>\n",
       "      <th>1003</th>\n",
       "      <td>Europe</td>\n",
       "      <td>Germany</td>\n",
       "      <td>Jenny</td>\n",
       "      <td>12</td>\n",
       "      <td>9.0</td>\n",
       "    </tr>\n",
       "  </tbody>\n",
       "</table>\n",
       "</div>"
      ],
      "text/plain": [
       "properties continent  country   name  age  score\n",
       "User ID                                         \n",
       "1001          Europe    Italy   Mark   55    4.5\n",
       "1000         America      USA   John   33    6.7\n",
       "1002         America      USA    Tim   41    3.9\n",
       "1003          Europe  Germany  Jenny   12    9.0"
      ]
     },
     "execution_count": 74,
     "metadata": {},
     "output_type": "execute_result"
    }
   ],
   "source": [
    "var_criada_dataframe.loc[:, [\"continent\", \"country\", \"name\", \"age\", \"score\"]] #Reordena as colunas"
   ]
  },
  {
   "cell_type": "code",
   "execution_count": 78,
   "metadata": {},
   "outputs": [
    {
     "data": {
      "text/plain": [
       "'USA'"
      ]
     },
     "execution_count": 78,
     "metadata": {},
     "output_type": "execute_result"
    }
   ],
   "source": [
    "#Obs.: df.loc[selecao_linha, selecao_coluna]\n",
    "var_criada_dataframe.loc[1000,\"country\"] #Valor único "
   ]
  },
  {
   "cell_type": "code",
   "execution_count": 77,
   "metadata": {},
   "outputs": [
    {
     "data": {
      "text/plain": [
       "User ID\n",
       "1001      Italy\n",
       "1000        USA\n",
       "1002        USA\n",
       "1003    Germany\n",
       "Name: country, dtype: object"
      ]
     },
     "execution_count": 77,
     "metadata": {},
     "output_type": "execute_result"
    }
   ],
   "source": [
    "var_criada_dataframe.loc[:, \"country\"] # Uma coluna (1d)"
   ]
  },
  {
   "cell_type": "code",
   "execution_count": 79,
   "metadata": {},
   "outputs": [
    {
     "data": {
      "text/html": [
       "<div>\n",
       "<style scoped>\n",
       "    .dataframe tbody tr th:only-of-type {\n",
       "        vertical-align: middle;\n",
       "    }\n",
       "\n",
       "    .dataframe tbody tr th {\n",
       "        vertical-align: top;\n",
       "    }\n",
       "\n",
       "    .dataframe thead th {\n",
       "        text-align: right;\n",
       "    }\n",
       "</style>\n",
       "<table border=\"1\" class=\"dataframe\">\n",
       "  <thead>\n",
       "    <tr style=\"text-align: right;\">\n",
       "      <th>properties</th>\n",
       "      <th>country</th>\n",
       "    </tr>\n",
       "    <tr>\n",
       "      <th>User ID</th>\n",
       "      <th></th>\n",
       "    </tr>\n",
       "  </thead>\n",
       "  <tbody>\n",
       "    <tr>\n",
       "      <th>1001</th>\n",
       "      <td>Italy</td>\n",
       "    </tr>\n",
       "    <tr>\n",
       "      <th>1000</th>\n",
       "      <td>USA</td>\n",
       "    </tr>\n",
       "    <tr>\n",
       "      <th>1002</th>\n",
       "      <td>USA</td>\n",
       "    </tr>\n",
       "    <tr>\n",
       "      <th>1003</th>\n",
       "      <td>Germany</td>\n",
       "    </tr>\n",
       "  </tbody>\n",
       "</table>\n",
       "</div>"
      ],
      "text/plain": [
       "properties  country\n",
       "User ID            \n",
       "1001          Italy\n",
       "1000            USA\n",
       "1002            USA\n",
       "1003        Germany"
      ]
     },
     "execution_count": 79,
     "metadata": {},
     "output_type": "execute_result"
    }
   ],
   "source": [
    "var_criada_dataframe.loc[:, [\"country\"]] # Uma coluna (2d)"
   ]
  },
  {
   "cell_type": "code",
   "execution_count": null,
   "metadata": {},
   "outputs": [],
   "source": []
  }
 ],
 "metadata": {
  "kernelspec": {
   "display_name": "base",
   "language": "python",
   "name": "python3"
  },
  "language_info": {
   "codemirror_mode": {
    "name": "ipython",
    "version": 3
   },
   "file_extension": ".py",
   "mimetype": "text/x-python",
   "name": "python",
   "nbconvert_exporter": "python",
   "pygments_lexer": "ipython3",
   "version": "3.12.4"
  }
 },
 "nbformat": 4,
 "nbformat_minor": 2
}
