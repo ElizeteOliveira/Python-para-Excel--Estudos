{
 "cells": [
  {
   "cell_type": "markdown",
   "metadata": {},
   "source": [
    "# Análise de Dados com pandas \n",
    "O pandas (planilha em python) é uma biblioteca de análise de dados python. Os superpoderes importantes dela é a vetorização(permite escrever o código conciso e baseaddo em array) e o alinhamentos de dados (garante que não haja incompatibilidade de dados ao trabalhar com vários conjuntos de dados).\n",
    "\n",
    "- Análise de Dados (seja para DataScience, seja para trabalhar de forma integrada com arquivos em Excel e Banco de Dados)\n",
    "- Melhor biblioteca/módulo para trabalhar com quantidades enormes de informações\n",
    "- Uma mistura de listas e dicionários de forma muito eficiente\n",
    "\n",
    "Obs.1: É necessário importar a sua biblioteca inicialmente ao código(desde que esteja instalado essa biblioteca **pip install pandas**).\n",
    "Obs.2: O **as** atribuir ao módulo da biblioteca **pandas** um apelido curto **pd**\n",
    "- import pandas as pd \n",
    "O dataframe é umas principais estruturas de dados do pandas. Ele compom-se\n",
    "- índice (corresponde as linhas)\n",
    "- colunas\n",
    "- dados (o que esta contido dentro de cada coluna/linha)\n",
    "        dataframe = pd.read_excel(\"arquivo_com_extensao.xlsx\")\n",
    "\n",
    "* Uma maneira de criar um datafraem é fornecer os dados como uma lista aninhada, juntamente com valores para **columns** e **index**\n",
    "data = [[\"Mark\", 55, \"Italy\", 4.5, \"Europe\"],\n",
    "        [\"John\", 33, \"USA\", 6.7, \"America\"],\n",
    "        [\"Tim\", 41, \"USA\", 3.9, \"America\"],\n",
    "        [\"Jenny\", 12, \"Germany\", 9.0, \"Europe\"]]\n",
    "df = pd.DataFrame(data=data,\n",
    "                  columns=[\"name\", \"age\", \"country\",\n",
    "                           \"score\", \"continent\"],\n",
    "                  index=[1001, 1000, 1002, 1003])\n",
    "df\n",
    "\n",
    "* Obtem informações básicas: números de pontos de dados e os tipos de dados de cada coluna\n",
    "- df.info()\n",
    "Obs.: Se for dados da coluna somente: df.dtypes"
   ]
  },
  {
   "cell_type": "code",
   "execution_count": 6,
   "metadata": {},
   "outputs": [
    {
     "name": "stdout",
     "output_type": "stream",
     "text": [
      "       name  age  country  score continent\n",
      "1001   Mark   55    Italy    4.5    Europe\n",
      "1000   John   33      USA    6.7   America\n",
      "1002    Tim   41      USA    3.9   America\n",
      "1003  Jenny   12  Germany    9.0    Europe\n",
      "<class 'pandas.core.frame.DataFrame'>\n",
      "Index: 4 entries, 1001 to 1003\n",
      "Data columns (total 5 columns):\n",
      " #   Column     Non-Null Count  Dtype  \n",
      "---  ------     --------------  -----  \n",
      " 0   name       4 non-null      object \n",
      " 1   age        4 non-null      int64  \n",
      " 2   country    4 non-null      object \n",
      " 3   score      4 non-null      float64\n",
      " 4   continent  4 non-null      object \n",
      "dtypes: float64(1), int64(1), object(3)\n",
      "memory usage: 192.0+ bytes\n"
     ]
    },
    {
     "data": {
      "text/plain": [
       "name          object\n",
       "age            int64\n",
       "country       object\n",
       "score        float64\n",
       "continent     object\n",
       "dtype: object"
      ]
     },
     "execution_count": 6,
     "metadata": {},
     "output_type": "execute_result"
    }
   ],
   "source": [
    "import pandas as pd \n",
    "#informar o local do arquivo dentro do chamado\n",
    "#variavel_dataframe = pd.read_excel(r'C:\\Users\\E1180062\\Downloads\\Python para Excel-Estudos\\Relatório Geral das Amostras.xlsx') \n",
    "#imprimir a tabela\n",
    "#print(variavel_dataframe)\n",
    "\n",
    "#criação de dataframe\n",
    "criacao_dataframe = [[\"Mark\", 55, \"Italy\", 4.5, \"Europe\"],\n",
    "                    [\"John\", 33, \"USA\", 6.7, \"America\"],\n",
    "                    [\"Tim\", 41, \"USA\", 3.9, \"America\"],\n",
    "                    [\"Jenny\", 12, \"Germany\", 9.0, \"Europe\"]]\n",
    "var_criada_dataframe = pd.DataFrame(data=criacao_dataframe,\n",
    "                                    columns=[\"name\", \"age\", \"country\",\n",
    "                                                \"score\", \"continent\"],\n",
    "                                    index=[1001, 1000, 1002, 1003])\n",
    "print(var_criada_dataframe)\n",
    "\n",
    "var_criada_dataframe.info()\n",
    "\n",
    "var_criada_dataframe.dtypes\n"
   ]
  }
 ],
 "metadata": {
  "kernelspec": {
   "display_name": "base",
   "language": "python",
   "name": "python3"
  },
  "language_info": {
   "codemirror_mode": {
    "name": "ipython",
    "version": 3
   },
   "file_extension": ".py",
   "mimetype": "text/x-python",
   "name": "python",
   "nbconvert_exporter": "python",
   "pygments_lexer": "ipython3",
   "version": "3.12.4"
  }
 },
 "nbformat": 4,
 "nbformat_minor": 2
}
