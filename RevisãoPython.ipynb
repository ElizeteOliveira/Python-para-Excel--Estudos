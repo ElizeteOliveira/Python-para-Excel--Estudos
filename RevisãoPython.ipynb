{
 "cells": [
  {
   "cell_type": "markdown",
   "metadata": {},
   "source": [
    "# Python\n",
    "\n",
    "## Variáveis\n",
    "\n",
    "  Variavel é um nome de atribuição a um objeto usando o comando de atribuição(sinal de igual)\n",
    "\n",
    "* Obs.1: Começa a variável com letras minusculas e usar o sinal de underscore[_], sendo conhecido como snake case.\n",
    "* Obs.2: A ordem obedece de cima para baixo e que seja declarado.\n",
    "* Obs.3: Em Python tudo é objeto: números, strings, funções entre outras.\n",
    "\n",
    "  1. Para \"imprimir\" (exibir) um texto ou uma variável -> **print(texto)**\n",
    "  2. Textos (strings) são sempre entre aspas -> **print('string do texto',texto)**\n",
    "  3. Pegar informações do Usuário -> **variavel = input('Texto para o Usuário')**\n",
    "  4. Concatenar texto (+) -> **print('string 1' + 'string 2')**\n",
    "  5. Verificar se um texto está contido dentro do outro (in) -> **print('@' in 'lira@gmail.com')**  (ele dá como True ou false) \n",
    "  6. Método format usado para chamar mais de uma variável -> **print('Texto1 {}. Texto2 {}. Texto3 {}'.format(var1, var2, var1))**\n",
    "  7. Substitui textos (%s) -> **print ('Texto1 %d. Texto2 %s. Texto3 %s' % (var1, var2, var3))**\n",
    "  8. Substitui números decimais (%d) -> **print ('Valor1 %d. Valor2 %d. Valor3 %d' % (var1, var2, var3))**\n",
    "\n",
    "## Tipos de Variáveis\n",
    "\n",
    "  Para descobrir o tipo dado de determiando objeto -> **type(nome_variavel)**  \n",
    "  int -> inteiro<br>\n",
    "  string -> texto<br>\n",
    "  float -> números com casas decimais (ponto flutuante)<br>\n",
    "  bool ou boolean -> True ou False<br>\n",
    "  Obs.: Caso queira mudar de um tipo a outro, usar o construtor e dentro a variavel para transformação.\n",
    "  Ex.: int(4.9)\n",
    "\n",
    "## Operações Mateméticas no Python:\n",
    "\n",
    "1. Adição -> +\n",
    "2. Subtração -> -\n",
    "3. Divisão -> /\n",
    "4. Multiplicação -> *\n",
    "5. Mod (resto da divisão) -> %\n",
    "6. Potencição -> **\n",
    "7. Quociente da Div Inteira -> //\n",
    "\n",
    "## Comparadores\n",
    "1. Igual **==**   \n",
    "2. Diferente **!=**   \n",
    "3. Maior que (>= maior ou igual) **>**    \n",
    "4. Menor que (<= menor ou igual) **<**     \n",
    "5. in    texto existe dentro de outro texto \n",
    "6. not   verifica o contrário da comparação\n",
    "7. and   verifica ambas as comparações\n",
    "8. or    verifica uma das comparações\n",
    "\n",
    "Obs: Se em alguma condição você não quiser fazer nada, você pode simplesmente escrever: **pass**\n",
    "\n",
    "## String\n",
    "Os strings são sequência de caracteres, e no python ele é baseado em zero, o que significa que o primeiro elemento em uma sequência é referido pelo índice 0. Índices negativos a partir de -1 permitem que você faça referência a elementos no fim da sequência.\n",
    "* -14 -13 -12 -11 -10 -9 -8 -7 -6 -5 -4 -3 -2 -1\n",
    "*  l   i   r   a   @  g  m  a  i  l  .  c  o  m\n",
    "*  0   1   2   3   4  5  6  7  8  9 10 11 12 13\n",
    "\n",
    "1. Pegar um item de uma string: texto[índice] -> **print('Primeiro Caractere ' + var[0])**\n",
    "2. Pegar o tamanho de um texto: len(texto) -> **print('Tamanho do texto' + str(len(var)) + 'caracteres')**\n",
    "3. Para pegar um texto de trás para frente: texto[índice] -> onde índice é negativo -> **print('Último Caractere ' + var[-1])**\n",
    "4. Para pegar o pedaço de um texto use : (dois pontos). texto[:indice] ou texto[indice:] ou ainda texto[indice:indice] -> **print('Servidor do email ' + var[5:10])**\n",
    "\n",
    "### Métodos de String\n",
    "\n",
    "- Normalmente usamos a estrutura **texto.método()** para fazer as modificações que queremos. Alguns métodos pedem \"argumentos\", que são informações que temos que passar para a fórmula (método) para ela funcionar. Esses argumentos são passados dentro do parênteses, como por exemplos:\n",
    "\n",
    "    - capitalize() -> Coloca a 1ª letra Maiúscula\n",
    "    - casefold() -> Transforma todas as letras em minúsculas (existe lower() mas o casefold é melhor normalmente)\n",
    "    - count()\t-> Quantidade de vezes que um valor aparece na string\n",
    "    - endswith() -> Verifica se o texto termina com um valor específico e dá como resposta True ou False\n",
    "    - find() -> Procura um texto dentro de outro texto e dá como resposta a posição do texto encontrado\n",
    "    - format() -> Formata uma string de acordo com os valores passados. Já usamos bastante ao longo do programa.\n",
    "    - isalnum() -> Verifica se um texto é todo feito com caracteres alfanuméricos (letras e números) -> letras com acento ou ç são considerados letras para essa função.\n",
    "    - isalpha() -> Verifica se um texto é todo feito de letras.\n",
    "    - isnumeric()\t-> Verifica se um texto é todo feito por números.\n",
    "    - replace() -> Substitui um texto por um outro texto em uma string.\n",
    "    - split()\t-> Separa uma string de acordo com um delimitador em vários textos diferentes.\n",
    "    - splitlines() -> separa um texto em vários textos de acordo com os \"enters\" do texto\n",
    "    - startswith() -> Verifica se a string começa com determinado texto\n",
    "    - strip()\t-> Retira caracteres indesejados dos textos. Por padrão, retira espaços \"extras\" no início e no final\n",
    "    - title() -> Coloca a 1ª letra de cada palavra em maiúscula\n",
    "    - upper()\t-> Coloca o texto todo em letra maiúscula\n",
    "\n",
    "### Método format\n",
    "  - :<\t\tAlinha o texto à esquerda (se tiver espaço na tela para isso)\n",
    "  - :>\t\tAlinha o texto à direita (se tiver espaço na tela para isso)\n",
    "  - :^\t\tAlinha o texto ao centro (se tiver espaço na tela para isso)\n",
    "  - :+\t\tColoca o sinal sempre na frente do número (independente se é positivo ou negativo)\n",
    "  - :,\t\tColoca a vírgula como separador de milhar\n",
    "  - :_\t\tColoca o _ como separador de milhar\n",
    "  - :e\t\tFormato Científico\n",
    "  - :f\t\tNúmero com quantidade fixa de casas decimais\n",
    "  - :x\t\tFormato HEX minúscula (para cores)\n",
    "  - :%\t\tFormato Percentual"
   ]
  },
  {
   "cell_type": "markdown",
   "metadata": {},
   "source": [
    "#### Exercicio 1\n",
    "Crie um programa que imprima (print) os principais indicadores da loja Hashtag&Drink no último ano.\n",
    "Obs: faça tudo usando variáveis.\n",
    "\n",
    "Valores do último ano:\n",
    "\n",
    "Quantidade de Vendas de Coca = 150<br>\n",
    "Quantidade de Vendas de Pepsi = 130<br>\n",
    "Preço Unitário da Coca = 1,50 <br>\n",
    "Preço Unitário da Pepsi = 1,50 <br>\n",
    "Custo da Loja: 2.500,00\n"
   ]
  },
  {
   "cell_type": "code",
   "execution_count": 5,
   "metadata": {},
   "outputs": [],
   "source": [
    "# Declaração das variáveis\n",
    "qtde_coca = 150\n",
    "qtde_pepsi = 130\n",
    "preco_coca = 1.50\n",
    "preco_pepsi = 1.50\n",
    "custo = 2500"
   ]
  },
  {
   "cell_type": "markdown",
   "metadata": {},
   "source": [
    "a) Qual foi o faturamento de Pepsi da Loja?"
   ]
  },
  {
   "cell_type": "code",
   "execution_count": 6,
   "metadata": {},
   "outputs": [
    {
     "name": "stdout",
     "output_type": "stream",
     "text": [
      "O faturamento foi de R$ 195.0\n"
     ]
    }
   ],
   "source": [
    "faturamento_pepsi = qtde_pepsi * preco_pepsi\n",
    "print('O faturamento foi de R$', faturamento_pepsi)"
   ]
  },
  {
   "cell_type": "markdown",
   "metadata": {},
   "source": [
    "b) Qual foi o faturamento de Coca da Loja?"
   ]
  },
  {
   "cell_type": "code",
   "execution_count": 7,
   "metadata": {},
   "outputs": [
    {
     "name": "stdout",
     "output_type": "stream",
     "text": [
      "O faturamento foi de R$ 225.0\n"
     ]
    }
   ],
   "source": [
    "faturamento_coca = qtde_coca * preco_coca\n",
    "print('O faturamento foi de R$', faturamento_coca)"
   ]
  },
  {
   "cell_type": "markdown",
   "metadata": {},
   "source": [
    "c) Qual foi o Lucro da loja?"
   ]
  },
  {
   "cell_type": "code",
   "execution_count": 8,
   "metadata": {},
   "outputs": [
    {
     "name": "stdout",
     "output_type": "stream",
     "text": [
      "O lucro foi de R$ -2080.0\n"
     ]
    }
   ],
   "source": [
    "faturamento = faturamento_coca + faturamento_pepsi\n",
    "lucro = faturamento - custo\n",
    "print('O lucro foi de R$', lucro)"
   ]
  },
  {
   "cell_type": "markdown",
   "metadata": {},
   "source": [
    "d) Qual foi a Margem da Loja? (Lembre-se, margem = Lucro / Faturamento). Não precisa formatar em percentual"
   ]
  },
  {
   "cell_type": "code",
   "execution_count": 9,
   "metadata": {},
   "outputs": [
    {
     "name": "stdout",
     "output_type": "stream",
     "text": [
      "O lucro foi de R$ -4.9523809523809526\n"
     ]
    }
   ],
   "source": [
    "margem = lucro / faturamento\n",
    "print('O lucro foi de R$', margem)"
   ]
  },
  {
   "cell_type": "markdown",
   "metadata": {},
   "source": [
    "#### Exercicio 2\n",
    "A maioria das empresas trabalham com um Código para cada produto que possuem. A Hashtag&Drink, por exemplo, tem mais de 1.000 produtos e possui um código para cada produto.\n",
    "Ex: <br>\n",
    "Coca -> Código: BEB1300543<br>\n",
    "Pepsi -> Código: BEB1300545<br>\n",
    "Vinho Primitivo Lucarelli -> Código: BAC1546001<br>\n",
    "Vodka Smirnoff -> Código: BAC17675002<br>\n",
    "\n",
    "Repare que todas as bebidas não alcóolicas tem o início do Código \"BEB\" e todas as bebidas alcóolicas tem o início do código \"BAC\".\n",
    "\n",
    "Crie um programa de consulta de bebida que, dado um código qualquer, identifique se a bebida é alcóolica. O programa deve responder True para bebidas alcóolicas e False para bebidas não alcóolicas. Para inserir um código, use um input.\n",
    "\n",
    "Dica: Lembre-se do comando in para strings e sempre insira os códigos com letra maiúscula para facilitar."
   ]
  },
  {
   "cell_type": "code",
   "execution_count": 1,
   "metadata": {},
   "outputs": [
    {
     "name": "stdout",
     "output_type": "stream",
     "text": [
      "False\n"
     ]
    }
   ],
   "source": [
    "codigo = input(\"Qual é o código da bebida? (Insira tudo em letra maiúscula):\")\n",
    "print(\"BAC\" in codigo)"
   ]
  },
  {
   "cell_type": "markdown",
   "metadata": {},
   "source": [
    "# Exercicio 3\n",
    "Cadastro de CPF: Crie um programa para cadastro de CPF de clientes que recebe o CPF em um input box apenas com números. Ex: 'Insira seu CPF (digite apenas números)'.<br>\n",
    "Regra 1: Caso o usuário digite algo diferente de números ou digite menos de 11 caracteres (tamanho do CPF brasileiro), o programa deve exibir uma mensagem de \"Digite seu CPF corretamente e digite apenas números\"\n",
    "Regra 2: Vamos criar um input que permita que o usuário insira pontos, traços e inclusive espaços vazios. Nosso programa deve \"tratar\" o que o usuário inserir para padronizar o CPF dele em apenas números. A verificação de tamanho do CPF com 11 caracteres continua válida, mas ela só deve ser feita depois de retirar todos os pontos, traços e espaços do CPF que o cliente inserir e, uma vez retirados pontos, traços e espaços, devem sobrar apenas números no CPF. Qualquer outro caractere deve ser considerado inválido.\n",
    "No final, nosso programa deve exibir uma mensagem para o usuário, caso ele tenha inserido o CPF inválido ou então apenas deve printar o CPF correto já só com número."
   ]
  },
  {
   "cell_type": "markdown",
   "metadata": {},
   "source": [
    "a) Aplicado a regra 1"
   ]
  },
  {
   "cell_type": "code",
   "execution_count": 11,
   "metadata": {},
   "outputs": [
    {
     "name": "stdout",
     "output_type": "stream",
     "text": [
      "Digite seu CPF corretamente e digite apenas números\n"
     ]
    }
   ],
   "source": [
    "cpf = input('Insira seu CPF (digite apenas números)')\n",
    "\n",
    "if len(cpf) == 11 and cpf.isnumeric():\n",
    "    print(cpf)\n",
    "else:\n",
    "    print('Digite seu CPF corretamente e digite apenas números')"
   ]
  },
  {
   "cell_type": "markdown",
   "metadata": {},
   "source": [
    "b) Aplicado a regra 2"
   ]
  },
  {
   "cell_type": "code",
   "execution_count": 13,
   "metadata": {},
   "outputs": [
    {
     "name": "stdout",
     "output_type": "stream",
     "text": [
      "06293817397\n"
     ]
    }
   ],
   "source": [
    "cpf = input('Insira seu CPF')\n",
    "#tirar espaços no inicio e no final\n",
    "cpf = cpf.strip()\n",
    "#tirar os . (pontos)\n",
    "cpf = cpf.replace('.', '')\n",
    "#tirar os traços (-)\n",
    "cpf = cpf.replace('-', '')\n",
    "\n",
    "if len(cpf) == 11 and cpf.isnumeric():\n",
    "    print(cpf)\n",
    "else:\n",
    "    print('Digite seu CPF corretamente e digite apenas números')"
   ]
  },
  {
   "cell_type": "markdown",
   "metadata": {},
   "source": [
    "### Exercicio 4\n",
    "Cadastro de e-mails: Verificar se o e-mail que a pessoa inseriu é um e-mail válido, verificando se ele tem '@' e se depois do '@' tem algum ponto, afinal:\n",
    "\n",
    "- liragmail.com NÃO é um e-mail válido\n",
    "- lira@gmail NÃO é um e-mail válido\n",
    "- lira@gmail.com é um e-mail válido\n",
    "\n",
    "Crie um programa que permita o cadastro de nome e e-mail de uma pessoa (por meio de inputs) e que verifique:\n",
    "1. Se nome e e-mail foram preenchidos, caso contrário ele deve avisar para preencher todos os dados corretamente\n",
    "2. Se o e-mail contém '@' e se depois do '@' existe algum '.', caso contrário ele deve exibir uma mensagem de e-mail inválido\n",
    "\n",
    "Obs: Pode te ajudar lembrar do método .find da aula de Métodos de String. Você pode testar o que ele dá como resposta caso ele não encontre um item dentro da string"
   ]
  },
  {
   "cell_type": "code",
   "execution_count": 14,
   "metadata": {},
   "outputs": [
    {
     "name": "stdout",
     "output_type": "stream",
     "text": [
      "Cadastro concluído\n"
     ]
    }
   ],
   "source": [
    "nome = input('Digite seu nome')\n",
    "email = input('Digite o seu e-mail')\n",
    "\n",
    "if nome and email:\n",
    "    pos_a = email.find('@')\n",
    "    servidor = email[pos_a:]\n",
    "    if pos_a != -1 and '.' in servidor:\n",
    "        print('Cadastro concluído')\n",
    "    else:\n",
    "        print('Email inválido')\n",
    "else:\n",
    "    print('Digite seu nome e e-mail corretamente')"
   ]
  },
  {
   "cell_type": "markdown",
   "metadata": {},
   "source": [
    "# Python\n",
    "\n",
    "## Condição **if**\n",
    "1. Simples\n",
    "\n",
    "if condição: <br>\n",
    "    o que eu quero fazer caso a condição seja verdadeira <br>\n",
    "else: <br>\n",
    "    o que eu quero fazer caso a condição seja falsa <br>\n",
    "\n",
    "2. Mais de uma condição ao mesmo tempo:\n",
    "\n",
    "if condicao_1:<br>\n",
    "    o que fazer se a condição 1 for verdadeira<br>\n",
    "    if condicao_2:<br>\n",
    "        o que fazer se a condição 1 e 2 for verdadeira<br>\n",
    "    else:<br>\n",
    "        o que fazer se a condição 2 for falsa (mas a condição 1 é verdadeira)<br>\n",
    "else:<br>\n",
    "    o que fazer se a condição 1 for falsa<br>\n",
    "    \n",
    "Obs.1: Cuidado importante: repetição de código. Sempre que possível, evite repetir código. De forma geral:<br>\n",
    "\"Se você está repetindo um código, existe uma forma melhor de fazer\"\n",
    "Obs.2:Sempre que usamos o if ou qualquer outra estrutura no Python, devemos usar a identação para dizer para o Programa onde a estrutura começa e onde ela termina. Isso vai ajudar muito quando tivermos mais de 1 condição ao mesmo tempo e quando tivermos várias ações para fazer dentro de um if.\n",
    "\n",
    "3. Mais de uma condição: elif\n",
    "\n",
    "if condição:<br>\n",
    "    o que fazer se a condição 1 for verdadeira<br>\n",
    "elif condição_2:<br>\n",
    "    o que fazer se a condição 1 for falsa e a condição 2 for verdadeira<br>\n",
    "else:<br>\n",
    "    o que fazer se a condição 1 e a condição 2 forem falsas<br>\n",
    "4. Comparação contraintuitivas\n",
    "\n",
    "* If 0:\n",
    "* If '':"
   ]
  },
  {
   "cell_type": "markdown",
   "metadata": {},
   "source": [
    "#### Exercicio if 1\n",
    "Criando um mini sistema de controle de estoque\n",
    "\n",
    "- Crie um sistema para ser usado pelo time de controle de estoque de um centro de distribuição.\n",
    "- Imagine que ao fim de todo dia, o time conta quantas unidades de produto existem no estoque. Se tivermos um estoque abaixo do estoque permitido para aquela categoria do produto, o time deve ser avisado (print) para fazer um novo pedido daquele produto.\n",
    "- Cada categoria de produto tem um estoque mínimo diferente, segundo a regra abaixo:\n",
    "\n",
    "- alimentos -> Estoque mínimo: 50\n",
    "- bebidas -> Estoque mínimo: 75\n",
    "- limpeza -> Estoque mínimo: 30\n",
    "\n",
    "Para isso vamos criar um programa que pede 3 inputs do usuário: nome do produto, categoria e quantidade atual em estoque. Se o produto tiver abaixo do estoque mínimo da categoria dele, o programa deve printar a mensagem \"Solicitar {produto} à equipe de compras, temos apenas {unidades} em estoque\". Exemplo: Se o usuário preenche os inputs com: bebidas, dolly, 90, o programa não deve exibir nenhuma mensagem. Agora, se o usuário preenche os inputs com: bebidas, guaraná, 60, o programa deve exibir a mensagem \"Solicitar guaraná à equipe de compras, temos apenas 60 unidades em estoque.<br>\n",
    "Obs: lembre de usar o int() para transformar o número inserido pelo usuário no input de string para int.<br>\n",
    "Obs2: Caso o usuário não preencha alguma das 3 informações, o programa deve exibir uma mensagem para avisá-lo de preencher corretamente.<br>\n",
    "\n"
   ]
  },
  {
   "cell_type": "code",
   "execution_count": 5,
   "metadata": {},
   "outputs": [],
   "source": [
    "#Declaração das variaveis (inserção de dados)\n",
    "nome_produto = input('Qual o produto?')\n",
    "categoria = input('Qual a categoria do produto?')\n",
    "qtde = input('Qual a quantidade atual do produto?')"
   ]
  },
  {
   "cell_type": "code",
   "execution_count": 6,
   "metadata": {},
   "outputs": [
    {
     "name": "stdout",
     "output_type": "stream",
     "text": [
      "Solicitar limpeza à equipe de compras, temos apenas 20 unidades em estoque\n"
     ]
    }
   ],
   "source": [
    "if nome_produto and categoria and qtde:\n",
    "    qtde = int(qtde)\n",
    "    if categoria == 'bebidas':\n",
    "        if qtde < 75:\n",
    "            print('Solicitar {} à equipe de compras, temos apenas {} unidades em estoque'.format(nome_produto, qtde))\n",
    "    elif categoria == 'limpeza':\n",
    "        if qtde < 30:\n",
    "            print('Solicitar {} à equipe de compras, temos apenas {} unidades em estoque'.format(nome_produto, qtde))\n",
    "    else:\n",
    "        if qtde < 50:\n",
    "            print('Solicitar {} à equipe de compras, temos apenas {} unidades em estoque'.format(nome_produto, qtde))\n",
    "else:\n",
    "    print('Preencha todas as informações')"
   ]
  },
  {
   "cell_type": "markdown",
   "metadata": {},
   "source": [
    "#### Exercicio if 2\n",
    "Cálculo de Bônus: - Crie um programa que calcule e dê um print no bônus que os funcionários devem receber segundo a regra:<br>\n",
    "- Regra 1:\n",
    "* A meta é 1000 vendas.\n",
    "* Se o valor de vendas for maior ou igual a meta, o valor do bônus do funcionário é 10% do valor de vendas.\n",
    "* Caso contrário o valor de bônus do funcionário é 0.<br>\n",
    "- Regra 2: \n",
    "* A meta é 1000 vendas\n",
    "* Agora, os funcionários que venderem muito acima da meta ganham mais bônus do que os outros. Então o bônus é definido da seguinte forma:\n",
    "    - Se vendas funcionário for maior ou igual a 2000, então o bônus é de 15% sobre o valor de vendas\n",
    "    - Se vendas funcionário for menor do que 2000 e maior ou igual a 1000, então o bônus é de 10% sobre o valor de vendas\n",
    "    - Se vendas funcionário for menos do que 1000 então o bônus do funcionário é de 0."
   ]
  },
  {
   "cell_type": "code",
   "execution_count": 7,
   "metadata": {},
   "outputs": [],
   "source": [
    "vendas_funcionario1 = 1000\n",
    "vendas_funcionario2 = 770\n",
    "vendas_funcionario3 = 2700"
   ]
  },
  {
   "cell_type": "markdown",
   "metadata": {},
   "source": [
    "a) Print o bônus dos 3 funcionários de acordo com a regra 1"
   ]
  },
  {
   "cell_type": "code",
   "execution_count": 8,
   "metadata": {},
   "outputs": [
    {
     "name": "stdout",
     "output_type": "stream",
     "text": [
      "O funcionário 1 ganhou 100.0 de bônus\n",
      "O funcionário 2 ganhou 0 de bônus\n",
      "O funcionário 3 ganhou 270.0 de bônus\n"
     ]
    }
   ],
   "source": [
    "#crie seu código aqui\n",
    "if vendas_funcionario1 >= 1000:\n",
    "    print('O funcionário 1 ganhou {} de bônus'.format(vendas_funcionario1 * 0.1))\n",
    "\n",
    "if vendas_funcionario2 >= 1000:\n",
    "    bonus = vendas_funcionario2 * 0.1\n",
    "else:\n",
    "    bonus = 0\n",
    "print('O funcionário 2 ganhou {} de bônus'.format(bonus))\n",
    "\n",
    "if vendas_funcionario3 >= 1000:\n",
    "    bonus = vendas_funcionario3 * 0.1\n",
    "else:\n",
    "    bonus = 0\n",
    "print('O funcionário 3 ganhou {} de bônus'.format(bonus))"
   ]
  },
  {
   "cell_type": "markdown",
   "metadata": {},
   "source": [
    "b) Print o bônus dos 3 funcionários de acordo com a regra 2"
   ]
  },
  {
   "cell_type": "code",
   "execution_count": 9,
   "metadata": {},
   "outputs": [
    {
     "name": "stdout",
     "output_type": "stream",
     "text": [
      "O funcionário 1 ganhou 100.0 de bônus\n",
      "O funcionário 2 ganhou 0 de bônus\n",
      "O funcionário 3 ganhou 405.0 de bônus\n"
     ]
    }
   ],
   "source": [
    "#obs: há 2 formas de fazer, com if dentro de if ou então com if e elif. Escolha a que você preferir\n",
    "\n",
    "if vendas_funcionario1 >= 1000:\n",
    "    if vendas_funcionario1 >= 2000:\n",
    "        bonus = 0.15 * vendas_funcionario1\n",
    "    else:\n",
    "        bonus = 0.1 * vendas_funcionario1\n",
    "else:\n",
    "    bonus = 0\n",
    "print('O funcionário 1 ganhou {} de bônus'.format(bonus))\n",
    "\n",
    "#2ª maneira -> if e elif\n",
    "\n",
    "if vendas_funcionario2 >= 2000:\n",
    "    bonus = 0.15 * vendas_funcionario2\n",
    "elif vendas_funcionario2 >= 1000:\n",
    "    bonus = 0.1 * vendas_funcionario2\n",
    "else:\n",
    "    bonus = 0\n",
    "print('O funcionário 2 ganhou {} de bônus'.format(bonus))\n",
    "\n",
    "######\n",
    "if vendas_funcionario3 >= 1000:\n",
    "    if vendas_funcionario3 >= 2000:\n",
    "        bonus = 0.15 * vendas_funcionario3\n",
    "    else:\n",
    "        bonus = 0.1 * vendas_funcionario3\n",
    "else:\n",
    "    bonus = 0\n",
    "print('O funcionário 3 ganhou {} de bônus'.format(bonus))"
   ]
  }
 ],
 "metadata": {
  "kernelspec": {
   "display_name": "base",
   "language": "python",
   "name": "python3"
  },
  "language_info": {
   "codemirror_mode": {
    "name": "ipython",
    "version": 3
   },
   "file_extension": ".py",
   "mimetype": "text/x-python",
   "name": "python",
   "nbconvert_exporter": "python",
   "pygments_lexer": "ipython3",
   "version": "3.12.4"
  }
 },
 "nbformat": 4,
 "nbformat_minor": 2
}
