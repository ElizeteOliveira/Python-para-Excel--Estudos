{
 "cells": [
  {
   "cell_type": "markdown",
   "metadata": {},
   "source": [
    "# Python\n",
    "\n",
    "## Variáveis\n",
    "\n",
    "  Variavel é um nome de atribuição a um objeto usando o comando de atribuição(sinal de igual)\n",
    "\n",
    "* Obs.1: Começa a variável com letras minusculas e usar o sinal de underscore[_], sendo conhecido como snake case.\n",
    "* Obs.2: A ordem obedece de cima para baixo e que seja declarado.\n",
    "* Obs.3: Em Python tudo é objeto: números, strings, funções entre outras.\n",
    "\n",
    "  1. Para \"imprimir\" (exibir) um texto ou uma variável -> **print(texto)**\n",
    "  2. Textos (strings) são sempre entre aspas -> **print('string do texto',texto)**\n",
    "  3. Pegar informações do Usuário -> **variavel = input('Texto para o Usuário')**\n",
    "  4. Concatenar texto (+) -> **print('string 1' + 'string 2')**\n",
    "  5. Verificar se um texto está contido dentro do outro (in) -> **print('@' in 'lira@gmail.com')**  (ele dá como True ou false) \n",
    "  6. Método format usado para chamar mais de uma variável -> **print('Texto1 {}. Texto2 {}. Texto3 {}'.format(var1, var2, var1))**\n",
    "  7. Substitui textos (%s) -> **print ('Texto1 %d. Texto2 %s. Texto3 %s' % (var1, var2, var3))**\n",
    "  8. Substitui números decimais (%d) -> **print ('Valor1 %d. Valor2 %d. Valor3 %d' % (var1, var2, var3))**\n",
    "\n",
    "## Tipos de Variáveis\n",
    "\n",
    "  Para descobrir o tipo dado de determiando objeto -> **type(nome_variavel)**  \n",
    "  int -> inteiro<br>\n",
    "  string -> texto<br>\n",
    "  float -> números com casas decimais (ponto flutuante)<br>\n",
    "  bool ou boolean -> True ou False<br>\n",
    "  Obs.: Caso queira mudar de um tipo a outro, usar o construtor e dentro a variavel para transformação.\n",
    "  Ex.: int(4.9)\n",
    "\n",
    "## Operações Mateméticas no Python:\n",
    "\n",
    "1. Adição -> +\n",
    "2. Subtração -> -\n",
    "3. Divisão -> /\n",
    "4. Multiplicação -> *\n",
    "5. Mod (resto da divisão) -> %\n",
    "6. Potencição -> **\n",
    "7. Quociente da Div Inteira -> //\n",
    "\n",
    "## Comparadores\n",
    "1. Igual **==**   \n",
    "2. Diferente **!=**   \n",
    "3. Maior que (>= maior ou igual) **>**    \n",
    "4. Menor que (<= menor ou igual) **<**     \n",
    "5. in    texto existe dentro de outro texto \n",
    "6. not   verifica o contrário da comparação\n",
    "7. and   verifica ambas as comparações\n",
    "8. or    verifica uma das comparações\n",
    "\n",
    "Obs: Se em alguma condição você não quiser fazer nada, você pode simplesmente escrever: **pass**\n",
    "\n",
    "## String\n",
    "Os strings são sequência de caracteres, e no python ele é baseado em zero, o que significa que o primeiro elemento em uma sequência é referido pelo índice 0. Índices negativos a partir de -1 permitem que você faça referência a elementos no fim da sequência.\n",
    "* -14 -13 -12 -11 -10 -9 -8 -7 -6 -5 -4 -3 -2 -1\n",
    "*  l   i   r   a   @  g  m  a  i  l  .  c  o  m\n",
    "*  0   1   2   3   4  5  6  7  8  9 10 11 12 13\n",
    "\n",
    "1. Pegar um item de uma string: texto[índice] -> **print('Primeiro Caractere ' + var[0])**\n",
    "2. Pegar o tamanho de um texto: len(texto) -> **print('Tamanho do texto' + str(len(var)) + 'caracteres')**\n",
    "3. Para pegar um texto de trás para frente: texto[índice] -> onde índice é negativo -> **print('Último Caractere ' + var[-1])**\n",
    "4. Para pegar o pedaço de um texto use : (dois pontos). texto[:indice] ou texto[indice:] ou ainda texto[indice:indice] -> **print('Servidor do email ' + var[5:10])**\n",
    "\n",
    "### Métodos de String\n",
    "\n",
    "- Normalmente usamos a estrutura **texto.método()** para fazer as modificações que queremos. Alguns métodos pedem \"argumentos\", que são informações que temos que passar para a fórmula (método) para ela funcionar. Esses argumentos são passados dentro do parênteses, como por exemplos:\n",
    "\n",
    "    - capitalize() -> Coloca a 1ª letra Maiúscula\n",
    "    - casefold() -> Transforma todas as letras em minúsculas (existe lower() mas o casefold é melhor normalmente)\n",
    "    - count()\t-> Quantidade de vezes que um valor aparece na string\n",
    "    - endswith() -> Verifica se o texto termina com um valor específico e dá como resposta True ou False\n",
    "    - find() -> Procura um texto dentro de outro texto e dá como resposta a posição do texto encontrado\n",
    "    - format() -> Formata uma string de acordo com os valores passados. Já usamos bastante ao longo do programa.\n",
    "    - isalnum() -> Verifica se um texto é todo feito com caracteres alfanuméricos (letras e números) -> letras com acento ou ç são considerados letras para essa função.\n",
    "    - isalpha() -> Verifica se um texto é todo feito de letras.\n",
    "    - isnumeric()\t-> Verifica se um texto é todo feito por números.\n",
    "    - replace() -> Substitui um texto por um outro texto em uma string.\n",
    "    - split()\t-> Separa uma string de acordo com um delimitador em vários textos diferentes.\n",
    "    - splitlines() -> separa um texto em vários textos de acordo com os \"enters\" do texto\n",
    "    - startswith() -> Verifica se a string começa com determinado texto\n",
    "    - strip()\t-> Retira caracteres indesejados dos textos. Por padrão, retira espaços \"extras\" no início e no final\n",
    "    - title() -> Coloca a 1ª letra de cada palavra em maiúscula\n",
    "    - upper()\t-> Coloca o texto todo em letra maiúscula\n",
    "\n",
    "### Método format\n",
    "  - :<\t\tAlinha o texto à esquerda (se tiver espaço na tela para isso)\n",
    "  - :>\t\tAlinha o texto à direita (se tiver espaço na tela para isso)\n",
    "  - :^\t\tAlinha o texto ao centro (se tiver espaço na tela para isso)\n",
    "  - :+\t\tColoca o sinal sempre na frente do número (independente se é positivo ou negativo)\n",
    "  - :,\t\tColoca a vírgula como separador de milhar\n",
    "  - :_\t\tColoca o _ como separador de milhar\n",
    "  - :e\t\tFormato Científico\n",
    "  - :f\t\tNúmero com quantidade fixa de casas decimais\n",
    "  - :x\t\tFormato HEX minúscula (para cores)\n",
    "  - :%\t\tFormato Percentual\n",
    "\n",
    "### Extra: Tratamento de erro\n",
    "try:\n",
    "    tentar fazer\n",
    "except:\n",
    "    caso dê errado\n",
    "### Caractere especiais dentro do texto\n",
    "- \\\"  Aspas Duplas\n",
    "- \\'\tAspas Simples\t\n",
    "- \\\\\tContra Barra\n",
    "- \\n\tNova Linha\t\t\n",
    "- \\t\tTab\t\n",
    "### Alterações \"Incrementais\" de Variáveis\n",
    "\n",
    "Estrutura:\n",
    "- variavel = variavel + outro_valor\n",
    "\n",
    "ou então\n",
    "\n",
    "- variavel += outro_valor\n",
    "\n",
    "\n",
    "### O iterable\n",
    "\n",
    "Um iterable é uma estrutura que armazena dados que pode ser \"iterada\" ou seja, que você pode fazer um loop como um for dentro dela e ir passando de item a item. É como se fosse um tipo de lista de coisas que você pode ir olhando cada um dos elementos dentro dela.\n",
    "\n",
    "O termo \"iterable\" você entenda o que estão falando: \"é tipo uma lista de coisas que eu posso percorrer e fazer alguma ação com cada uma das coisas dentro dessa lista\".\n",
    "* Range (explicado no for)\n",
    "* Set: \n",
    "meu_set = {valor, valor, valor, valor,...}\n",
    "Obs.:\n",
    "  - Não pode ter valores duplicados\n",
    "  - Não tem ordem fixa\n",
    "  ##### Métodos mais usados de set\n",
    "    - add -> adiciona um item no set - **meu_set.add('airpod')**\n",
    "    - remove -> retira um item de um set - **meu_set.remove('iphone')**\n",
    "    - clear -> retira todos os itens de um set - **meu_set.clear()**\n",
    "    - union -> junta as informações de 2 sets. Se houver algum valor duplicado, ele constará apenas 1 vez no set final - **todos_produtos = produtos.union(lancamentos)**\n",
    "    - intersection -> pega apenas as informações que existem nos 2 sets ao mesmo tempo - **intersecao = produtos.intersection(lancamentos)**\n",
    "    - difference -> retorna todas as informações de um set que não fazem parte de outro set - **produtos_nao_lancamentos = produtos.difference(lancamentos)**\n"
   ]
  },
  {
   "cell_type": "markdown",
   "metadata": {},
   "source": [
    "#### Exercicio 1\n",
    "Crie um programa que imprima (print) os principais indicadores da loja Hashtag&Drink no último ano.\n",
    "Obs: faça tudo usando variáveis.\n",
    "\n",
    "Valores do último ano:\n",
    "\n",
    "Quantidade de Vendas de Coca = 150<br>\n",
    "Quantidade de Vendas de Pepsi = 130<br>\n",
    "Preço Unitário da Coca = 1,50 <br>\n",
    "Preço Unitário da Pepsi = 1,50 <br>\n",
    "Custo da Loja: 2.500,00\n"
   ]
  },
  {
   "cell_type": "code",
   "execution_count": 5,
   "metadata": {},
   "outputs": [],
   "source": [
    "# Declaração das variáveis\n",
    "qtde_coca = 150\n",
    "qtde_pepsi = 130\n",
    "preco_coca = 1.50\n",
    "preco_pepsi = 1.50\n",
    "custo = 2500"
   ]
  },
  {
   "cell_type": "markdown",
   "metadata": {},
   "source": [
    "a) Qual foi o faturamento de Pepsi da Loja?"
   ]
  },
  {
   "cell_type": "code",
   "execution_count": 6,
   "metadata": {},
   "outputs": [
    {
     "name": "stdout",
     "output_type": "stream",
     "text": [
      "O faturamento foi de R$ 195.0\n"
     ]
    }
   ],
   "source": [
    "faturamento_pepsi = qtde_pepsi * preco_pepsi\n",
    "print('O faturamento foi de R$', faturamento_pepsi)"
   ]
  },
  {
   "cell_type": "markdown",
   "metadata": {},
   "source": [
    "b) Qual foi o faturamento de Coca da Loja?"
   ]
  },
  {
   "cell_type": "code",
   "execution_count": 7,
   "metadata": {},
   "outputs": [
    {
     "name": "stdout",
     "output_type": "stream",
     "text": [
      "O faturamento foi de R$ 225.0\n"
     ]
    }
   ],
   "source": [
    "faturamento_coca = qtde_coca * preco_coca\n",
    "print('O faturamento foi de R$', faturamento_coca)"
   ]
  },
  {
   "cell_type": "markdown",
   "metadata": {},
   "source": [
    "c) Qual foi o Lucro da loja?"
   ]
  },
  {
   "cell_type": "code",
   "execution_count": 8,
   "metadata": {},
   "outputs": [
    {
     "name": "stdout",
     "output_type": "stream",
     "text": [
      "O lucro foi de R$ -2080.0\n"
     ]
    }
   ],
   "source": [
    "faturamento = faturamento_coca + faturamento_pepsi\n",
    "lucro = faturamento - custo\n",
    "print('O lucro foi de R$', lucro)"
   ]
  },
  {
   "cell_type": "markdown",
   "metadata": {},
   "source": [
    "d) Qual foi a Margem da Loja? (Lembre-se, margem = Lucro / Faturamento). Não precisa formatar em percentual"
   ]
  },
  {
   "cell_type": "code",
   "execution_count": 9,
   "metadata": {},
   "outputs": [
    {
     "name": "stdout",
     "output_type": "stream",
     "text": [
      "O lucro foi de R$ -4.9523809523809526\n"
     ]
    }
   ],
   "source": [
    "margem = lucro / faturamento\n",
    "print('O lucro foi de R$', margem)"
   ]
  },
  {
   "cell_type": "markdown",
   "metadata": {},
   "source": [
    "#### Exercicio 2\n",
    "A maioria das empresas trabalham com um Código para cada produto que possuem. A Hashtag&Drink, por exemplo, tem mais de 1.000 produtos e possui um código para cada produto.\n",
    "Ex: <br>\n",
    "Coca -> Código: BEB1300543<br>\n",
    "Pepsi -> Código: BEB1300545<br>\n",
    "Vinho Primitivo Lucarelli -> Código: BAC1546001<br>\n",
    "Vodka Smirnoff -> Código: BAC17675002<br>\n",
    "\n",
    "Repare que todas as bebidas não alcóolicas tem o início do Código \"BEB\" e todas as bebidas alcóolicas tem o início do código \"BAC\".\n",
    "\n",
    "Crie um programa de consulta de bebida que, dado um código qualquer, identifique se a bebida é alcóolica. O programa deve responder True para bebidas alcóolicas e False para bebidas não alcóolicas. Para inserir um código, use um input.\n",
    "\n",
    "Dica: Lembre-se do comando in para strings e sempre insira os códigos com letra maiúscula para facilitar."
   ]
  },
  {
   "cell_type": "code",
   "execution_count": 1,
   "metadata": {},
   "outputs": [
    {
     "name": "stdout",
     "output_type": "stream",
     "text": [
      "False\n"
     ]
    }
   ],
   "source": [
    "codigo = input(\"Qual é o código da bebida? (Insira tudo em letra maiúscula):\")\n",
    "print(\"BAC\" in codigo)"
   ]
  },
  {
   "cell_type": "markdown",
   "metadata": {},
   "source": [
    "#### Exercicio 3\n",
    "Cadastro de CPF: Crie um programa para cadastro de CPF de clientes que recebe o CPF em um input box apenas com números. Ex: 'Insira seu CPF (digite apenas números)'.<br>\n",
    "Regra 1: Caso o usuário digite algo diferente de números ou digite menos de 11 caracteres (tamanho do CPF brasileiro), o programa deve exibir uma mensagem de \"Digite seu CPF corretamente e digite apenas números\"\n",
    "Regra 2: Vamos criar um input que permita que o usuário insira pontos, traços e inclusive espaços vazios. Nosso programa deve \"tratar\" o que o usuário inserir para padronizar o CPF dele em apenas números. A verificação de tamanho do CPF com 11 caracteres continua válida, mas ela só deve ser feita depois de retirar todos os pontos, traços e espaços do CPF que o cliente inserir e, uma vez retirados pontos, traços e espaços, devem sobrar apenas números no CPF. Qualquer outro caractere deve ser considerado inválido.\n",
    "No final, nosso programa deve exibir uma mensagem para o usuário, caso ele tenha inserido o CPF inválido ou então apenas deve printar o CPF correto já só com número."
   ]
  },
  {
   "cell_type": "markdown",
   "metadata": {},
   "source": [
    "a) Aplicado a regra 1"
   ]
  },
  {
   "cell_type": "code",
   "execution_count": 11,
   "metadata": {},
   "outputs": [
    {
     "name": "stdout",
     "output_type": "stream",
     "text": [
      "Digite seu CPF corretamente e digite apenas números\n"
     ]
    }
   ],
   "source": [
    "cpf = input('Insira seu CPF (digite apenas números)')\n",
    "\n",
    "if len(cpf) == 11 and cpf.isnumeric():\n",
    "    print(cpf)\n",
    "else:\n",
    "    print('Digite seu CPF corretamente e digite apenas números')"
   ]
  },
  {
   "cell_type": "markdown",
   "metadata": {},
   "source": [
    "b) Aplicado a regra 2"
   ]
  },
  {
   "cell_type": "code",
   "execution_count": 13,
   "metadata": {},
   "outputs": [
    {
     "name": "stdout",
     "output_type": "stream",
     "text": [
      "06293817397\n"
     ]
    }
   ],
   "source": [
    "cpf = input('Insira seu CPF')\n",
    "#tirar espaços no inicio e no final\n",
    "cpf = cpf.strip()\n",
    "#tirar os . (pontos)\n",
    "cpf = cpf.replace('.', '')\n",
    "#tirar os traços (-)\n",
    "cpf = cpf.replace('-', '')\n",
    "\n",
    "if len(cpf) == 11 and cpf.isnumeric():\n",
    "    print(cpf)\n",
    "else:\n",
    "    print('Digite seu CPF corretamente e digite apenas números')"
   ]
  },
  {
   "cell_type": "markdown",
   "metadata": {},
   "source": [
    "#### Exercicio 4\n",
    "Cadastro de e-mails: Verificar se o e-mail que a pessoa inseriu é um e-mail válido, verificando se ele tem '@' e se depois do '@' tem algum ponto, afinal:\n",
    "\n",
    "- liragmail.com NÃO é um e-mail válido\n",
    "- lira@gmail NÃO é um e-mail válido\n",
    "- lira@gmail.com é um e-mail válido\n",
    "\n",
    "Crie um programa que permita o cadastro de nome e e-mail de uma pessoa (por meio de inputs) e que verifique:\n",
    "1. Se nome e e-mail foram preenchidos, caso contrário ele deve avisar para preencher todos os dados corretamente\n",
    "2. Se o e-mail contém '@' e se depois do '@' existe algum '.', caso contrário ele deve exibir uma mensagem de e-mail inválido\n",
    "\n",
    "Obs: Pode te ajudar lembrar do método .find da aula de Métodos de String. Você pode testar o que ele dá como resposta caso ele não encontre um item dentro da string"
   ]
  },
  {
   "cell_type": "code",
   "execution_count": 14,
   "metadata": {},
   "outputs": [
    {
     "name": "stdout",
     "output_type": "stream",
     "text": [
      "Cadastro concluído\n"
     ]
    }
   ],
   "source": [
    "nome = input('Digite seu nome')\n",
    "email = input('Digite o seu e-mail')\n",
    "\n",
    "if nome and email:\n",
    "    pos_a = email.find('@')\n",
    "    servidor = email[pos_a:]\n",
    "    if pos_a != -1 and '.' in servidor:\n",
    "        print('Cadastro concluído')\n",
    "    else:\n",
    "        print('Email inválido')\n",
    "else:\n",
    "    print('Digite seu nome e e-mail corretamente')"
   ]
  },
  {
   "cell_type": "markdown",
   "metadata": {},
   "source": [
    "# Listas em Python\n",
    "As listas são capazes de conter varios objetos de diferente tipos de dados.Quando importamos uma base de dados para o Python, normalmente ele é lido como uma \"lista\" ou como alguma \"variação de lista\". Listas em Python foram feitas para serem homogêneas, apesar de aceitarem valores heterogêneos. Sua estrutura é:\n",
    "* lista = [valor1, valor2, valor3, valor4, ...]<br>\n",
    "Ex.1: produtos = ['tv', 'celular', 'mouse', 'teclado', 'tablet']<br>\n",
    "Ex.2: vendas = [1000, 1500, 350, 270, 900]<br>\n",
    "\n",
    "* lista[i] -> é o valor de índice i da lista. <br>\n",
    "Obs.1: Lembre que no python o índice começa em 0, então o primeiro item de uma lista é o item lista[0]\n",
    "Obs.2: Para substituir um valor de uma lista você pode fazer:**lista[i] = novo_valor**\n",
    "Obs.3: Cada item de uma lista pode ser qualquer tipo de variável. Inclusive, uma lista. Quando dentro de uma lista temos cada item como sendo uma outra lista, temos uma \"nested list\", ou seja, uma lista de listas.\n",
    "###  Métodos de listas\n",
    "- índice de um item de uma lista -> i = **lista.index('item')**\n",
    "- Adiciona um valor ao final de uma lista -> **lista.append(item)**\n",
    "- Tamanho da Lista -> **tamanho = len(lista)**\n",
    "- Maior e Menor Valor -> maior = **max(lista)** e menor = **min(lista)**\n",
    "- Adiciona todos os valores da lista2 na lista original -> **list.extend(lista2)**\n",
    "- Adiciona um valor em uma posição específica em uma lista -> **list.insert(posicao, valor)**<br>\n",
    "Obs.: Não é recomendado usar a não ser que seja realmente necessário inserir em uma posição específica, porque o método append é mais eficiente.<br>\n",
    "- Remove o valor da lista -> **list.remove(valor)**<br>\n",
    "Obs.: Apenas a 1ª ocorrência, então caso haja 2 vezes o valor na lista, apenas a 1ª será removida. Além disso, dá um erro caso valor não exista dentro da lista.<br>\n",
    "- Remove o item que está na posicao (índice) passado. -> **list.pop(indice)**<br>\n",
    "Obs.: Além disso, esse item é dado como resultado do pop, portanto pode ser armazenado em uma variável ou usado para outra coisa na mesma linha de código.<br>\n",
    "- Remove todos os itens de uma lista -> **list.clear()**\n",
    "- Retorna a posição do valor dentro da lista (em qual índice está o valor) -> **list.index(valor)**<br>\n",
    "Obs.: Dá erro caso não haja o valor dentro da lista.<br>\n",
    "- Retorna a quantidade de vezes que o valor aparece na lista -> **list.count(valor)**\n",
    "- Ordena os valores da lista em ordem crescente, ou alfabética, (reverse=False) ou decrescente (reverse=True) -> **list.sort(reverse=False)**\n",
    "- Inverte a ordem dos elementos de uma lista -> **list.reverse()**\n",
    "- Cria uma cópia da lista original -> **list.copy()**\n",
    "Obs.: Outra opção é fazer lista2 = lista1[:]<br>\n",
    "- Print de Listas método join -> **texto.join(lista)**\n",
    "- Método split de strings: **lista = texto.split(separador)**"
   ]
  },
  {
   "cell_type": "markdown",
   "metadata": {},
   "source": [
    "#### Exercicio 5\n",
    "Mudança de Carga Tributária. No Brasil, o imposto sobre livros é zerado. De um ano para o outro, o governo criou um novo imposto que incide em 10% sobre o valor dos livros e agora você precisa alterar o registro dos preços dos livros da empresa para garantir que esse imposto vai ser repassado para o preço final do produto.<br>\n",
    "Crie um código que recalcule o valor do livro da sua lista de produtos e ajuste na tabela.\n",
    "Além disso, calcule qual vai ser o impacto financeiro da criação desse imposto para a empresa (ou seja, quanto que o imposto vai aumentar de custo para a empresa)<br>\n",
    "Obs: para facilitar, colocamos apenas 1 livro na lista, mas em breve vamos aprender um for que vai adaptar esse cenário para qualquer quantidade de livros na sua lista.<br>\n",
    "Obs2: Seu código deve funcionar mesmo que não haja livros na lista de produtos da empresa"
   ]
  },
  {
   "cell_type": "code",
   "execution_count": null,
   "metadata": {},
   "outputs": [],
   "source": [
    "produtos = ['computador', 'livro', 'tablet', 'celular', 'tv', 'ar condicionado', 'alexa', 'máquina de café', 'kindle']\n",
    "\n",
    "#cada item da lista dos produtos corresponde a quantidade de vendas no mês e preço, nessa ordem\n",
    "produtos_ecommerce = [\n",
    "    [10000, 2500],\n",
    "    [50000, 40],\n",
    "    [7000, 1200],\n",
    "    [20000, 1500],\n",
    "    [5800, 1300],\n",
    "    [7200, 2500],\n",
    "    [200, 800],\n",
    "    [3300, 700],\n",
    "    [1900, 400]\n",
    "]\n",
    "\n",
    "if 'livro' in produtos:\n",
    "    i_livro = produtos.index('livro')\n",
    "    total_antigo = produtos_ecommerce[i_livro][0] * produtos_ecommerce[i_livro][1]\n",
    "    produtos_ecommerce[i_livro][1] = produtos_ecommerce[i_livro][1] * 1.1\n",
    "    novo_total = produtos_ecommerce[i_livro][0] * produtos_ecommerce[i_livro][1]\n",
    "    print('Vamos pagar de imposto a mais: R${:,}'.format(novo_total - total_antigo))"
   ]
  },
  {
   "cell_type": "markdown",
   "metadata": {},
   "source": [
    "#### Exercicio 6\n",
    "Faturamento do Melhor e do Pior Mês do Ano\n"
   ]
  },
  {
   "cell_type": "code",
   "execution_count": null,
   "metadata": {},
   "outputs": [],
   "source": [
    "meses = ['jan', 'fev', 'mar', 'abr', 'mai', 'jun', 'jul', 'ago', 'set', 'out', 'nov', 'dez']\n",
    "vendas_1sem = [25000, 29000, 22200, 17750, 15870, 19900]\n",
    "vendas_2sem = [19850, 20120, 17540, 15555, 49051, 9650]"
   ]
  },
  {
   "cell_type": "markdown",
   "metadata": {},
   "source": [
    "a) Qual foi o valor de vendas do melhor mês do Ano? E valor do pior mês do ano?"
   ]
  },
  {
   "cell_type": "code",
   "execution_count": null,
   "metadata": {},
   "outputs": [],
   "source": [
    "vendas_1sem.extend(vendas_2sem)\n",
    "maior_valor = max(vendas_1sem)\n",
    "menor_valor = min(vendas_1sem)\n",
    "print(maior_valor)\n",
    "print(menor_valor)\n",
    "print(vendas_1sem)"
   ]
  },
  {
   "cell_type": "markdown",
   "metadata": {},
   "source": [
    "b) Relacione as duas listas para printar 'O melhor mês do ano foi {} com {} vendas' e o mesmo para o pior mês do ano. Calcule também o faturamento total do Ano e quanto que o melhor mês representou do faturamento total.\n",
    "Obs: Para o faturamento total, pode usar a função sum(lista) que soma todos os itens de uma lista"
   ]
  },
  {
   "cell_type": "code",
   "execution_count": null,
   "metadata": {},
   "outputs": [],
   "source": [
    "i_maior_valor = vendas_1sem.index(maior_valor)\n",
    "i_menor_valor = vendas_1sem.index(menor_valor)\n",
    "\n",
    "print('O melhor mês do ano foi {} com {} vendas'.format(meses[i_maior_valor], maior_valor))\n",
    "print('O pior mês do ano foi {} com {} vendas'.format(meses[i_menor_valor], menor_valor))\n",
    "\n",
    "fat_total = sum(vendas_1sem)\n",
    "print('Faturamento Total: R${:,}'.format(fat_total))\n",
    "\n",
    "percentual = maior_valor / fat_total\n",
    "print('O melhor mês representou {:.1%} das vendas do ano todo'.format(percentual))"
   ]
  },
  {
   "cell_type": "markdown",
   "metadata": {},
   "source": [
    "c) Crie uma lista com o top 3 valores de vendas do ano (sem fazer \"no olho\"). Dica: o método remove retira um item da lista."
   ]
  },
  {
   "cell_type": "code",
   "execution_count": null,
   "metadata": {},
   "outputs": [],
   "source": [
    "top3 = []\n",
    "\n",
    "print(vendas_1sem)\n",
    "maior_valor = max(vendas_1sem)\n",
    "top3.append(maior_valor)\n",
    "\n",
    "vendas_1sem.remove(maior_valor)\n",
    "\n",
    "maior_valor = max(vendas_1sem)\n",
    "top3.append(maior_valor)\n",
    "vendas_1sem.remove(maior_valor)\n",
    "maior_valor = max(vendas_1sem)\n",
    "top3.append(maior_valor)\n",
    "print(top3)"
   ]
  },
  {
   "cell_type": "markdown",
   "metadata": {},
   "source": [
    "# Python\n",
    "\n",
    "## As **tuplas**\n",
    "Parece uma lista, mas é imutável, ou seja, uma vez criadas, seus elementos não podem ser alterados. Em caso de concatenação de tuplas irá ser criada uam nova tupla internamente e vinculará sua variável a essa nova tupla.\n",
    "\n",
    "Estrutura: tupla = (valor, valor, valor, ...)\n",
    "\n",
    "- Mais eficiente (em termos de performance)\n",
    "- Protege a base de dados (por ser imutável)\n",
    "- Muito usado para dados heterogêneos\n",
    "- O enumerate que vínhamos usando até agora, na verdade, cria uma tupla para a gente.  \n",
    "- Além de casos como o do enumerate, em que usamos uma função para transformar itens em tuplas porque isso ajuda o nosso código, temos também listas de tuplas como algo comum dentro do Python.\n",
    "lista = [\n",
    "    tupla1,\n",
    "    tupla2,\n",
    "    tupla3,\n",
    "    ]\n",
    "    \n",
    "ou seja\n",
    "\n",
    "lista = [\n",
    "    (valor1, valor2, valor3),\n",
    "    (valor4, valor5, valor6),\n",
    "    (valor7, valor8, valor9),\n",
    "    ]    "
   ]
  },
  {
   "cell_type": "markdown",
   "metadata": {},
   "source": [
    "#### Exercicio 7\n",
    "Análise de Vendas: fazer uma \"análise simples\" de atingimento de Meta. Temos uma lista com os vendedores e os valores de vendas e queremos identificar (printar) quais os vendedores que bateram a meta e qual foi o valor que eles venderam."
   ]
  },
  {
   "cell_type": "code",
   "execution_count": 1,
   "metadata": {},
   "outputs": [
    {
     "name": "stdout",
     "output_type": "stream",
     "text": [
      "João bateu a meta, vendeu 15000 unidades\n",
      "Julia bateu a meta, vendeu 27000 unidades\n",
      "Ana bateu a meta, vendeu 10300 unidades\n"
     ]
    }
   ],
   "source": [
    "meta = 10000\n",
    "vendas = [\n",
    "    ('João', 15000),\n",
    "    ('Julia', 27000),\n",
    "    ('Marcus', 9900),\n",
    "    ('Maria', 3750),\n",
    "    ('Ana', 10300),\n",
    "    ('Alon', 7870),\n",
    "]\n",
    "\n",
    "for vendedor, qtde in vendas:\n",
    "    if qtde >= meta:\n",
    "        print('{} bateu a meta, vendeu {} unidades'.format(vendedor, qtde))"
   ]
  },
  {
   "cell_type": "markdown",
   "metadata": {},
   "source": [
    "#### Exercicio 8\n",
    "Comparação com Ano Anterior: Digamos que você está analisando as vendas de produtos de um ecommerce e quer identificar quais produtos tiveram no ano de 2020 mais vendas do que no ano de 2019, para reportar isso para a diretoria. Sua resposta pode ser um print de cada produto, qual foi a venda de 2019, a venda de 2020 e o % de crescimento de 2020 para 2019.\n",
    "\n",
    "Lembrando, para calcular o % de crescimento de um produto de um ano para o outro, podemos fazer: (vendas_produto2020/vendas_produto2019 - 1)\n",
    "\n",
    "A lógica da tupla é: (produto, vendas2019, vendas2020)"
   ]
  },
  {
   "cell_type": "code",
   "execution_count": 2,
   "metadata": {},
   "outputs": [
    {
     "name": "stdout",
     "output_type": "stream",
     "text": [
      "iphone teve 558147 vendas em 2019, 951642 vendas em 2020. Crescimento de 70.5%\n",
      "tv teve 405252 vendas em 2019, 787604 vendas em 2020. Crescimento de 94.3%\n",
      "máquina de café teve 718654 vendas em 2019, 867660 vendas em 2020. Crescimento de 20.7%\n",
      "notebook dell teve 422760 vendas em 2019, 694913 vendas em 2020. Crescimento de 64.4%\n",
      "notebook hp teve 154753 vendas em 2019, 539704 vendas em 2020. Crescimento de 248.8%\n",
      "microsoft surface teve 438508 vendas em 2019, 667179 vendas em 2020. Crescimento de 52.1%\n",
      "webcam teve 237467 vendas em 2019, 295633 vendas em 2020. Crescimento de 24.5%\n",
      "caixa de som teve 489705 vendas em 2019, 725316 vendas em 2020. Crescimento de 48.1%\n",
      "microfone teve 328311 vendas em 2019, 644622 vendas em 2020. Crescimento de 96.3%\n",
      "câmera canon teve 591120 vendas em 2019, 994303 vendas em 2020. Crescimento de 68.2%\n"
     ]
    }
   ],
   "source": [
    "vendas_produtos = [('iphone', 558147, 951642), ('galaxy', 712350, 244295), ('ipad', 573823, 26964), ('tv', 405252, 787604), ('máquina de café', 718654, 867660), ('kindle', 531580, 78830), ('geladeira', 973139, 710331), ('adega', 892292, 646016), ('notebook dell', 422760, 694913), ('notebook hp', 154753, 539704), ('notebook asus', 887061, 324831), ('microsoft surface', 438508, 667179), ('webcam', 237467, 295633), ('caixa de som', 489705, 725316), ('microfone', 328311, 644622), ('câmera canon', 591120, 994303)]\n",
    "\n",
    "#seu código aqui\n",
    "for produto, vendas2019, vendas2020 in vendas_produtos:\n",
    "    if vendas2020 > vendas2019:\n",
    "        crescimento = vendas2020 / vendas2019 - 1\n",
    "        print('{} teve {} vendas em 2019, {} vendas em 2020. Crescimento de {:.1%}'.format(produto, vendas2019, vendas2020, crescimento))"
   ]
  },
  {
   "cell_type": "markdown",
   "metadata": {},
   "source": [
    "# Python\n",
    "\n",
    "## Dicionários\n",
    "Os dicionários mapeiam chaves para valores, ou seja, ele permitem acessar elementos pela chave, onde as chaves são acessadas por meio de colchetes.\n",
    "Estrutura: dicionario = {chave: valor, chave: valor, chave: valor, chave: valor ...}\n",
    "\n",
    "### Vantagens e Desvantagens\n",
    "\n",
    "- Não devem ser usados para pegar itens em uma determinada ordem\n",
    "- Podem ter valores heterogêneos (vários tipos de valores dentro de um mesmo dicionário: inteiros, strings, listas, etc)\n",
    "- Chaves são únicas obrigatoriamente\n",
    "- Mais intuitivos de trabalhar\n",
    "- Dicionários eram \"sem ordem\". Atualmente tem ordem, mas o certo é usar as chaves.\n",
    "Obs.: Não confie na ordem dos dicionários, use as chaves.\n",
    "- 2 formas de pegar um valor:\n",
    "    - dicionario[chave]\n",
    "    - .get(chave)\n",
    "- Verificar se item está no dicionário:\n",
    "    - if\n",
    "    - .get(chave) = None\n",
    "\n",
    "### Métodos dicionários\n",
    "- Adicionar itens: \n",
    "dicionario = {}\n",
    "\n",
    "dicionario[chave] = valor\n",
    "\n",
    "outra opção:\n",
    "\n",
    "dicionario.update({chave: valor, chave: valor})\n",
    "- Modificar itens:\n",
    "\n",
    "Da mesma forma que adicionamos 1 valor, caso essa chave já exista o item é apenas modificado.\n",
    "\n",
    "dicionario[chave] = valor\n",
    "\n",
    "Vamos modificar o lucro de fevereiro:<br>\n",
    "(Lembrando: caso o item não exista, ele vai criar o item no dicionário)\n",
    "- Remover itens: del dicionario[chave]\n",
    "Obs.: del dicionario<br>    ->    que é diferente de dicionario.clear()\n",
    "\n",
    "- clear() -> Deleta todos os elementos do Dicionário (semelhante ao que aprendemos em listas)\n",
    "- copy() -> Cria uma cópia do dicionário (semelhante ao que aprendemos em listas)\n",
    "- fromkeys(chaves, valor_padrao) -> Cria um dicionário com as chaves e o mesmo valor padrão para todas as chaves\n",
    "- get(chave) -> \tRetorna o valor especificado pela chave (Semelhante a fazer dictionario[chave]\n",
    "- items() -> Retorna uma lista em que cada item é uma tupla com (chave, valor)\n",
    "itens_dicionario = dicionario.items()\n",
    "\n",
    "for item in dicionario.items()\n",
    "    cada item do dicionario em formato de tupla\n",
    "\n",
    "- keys() -> Retorna uma lista com todas as chaves do dicionário\n",
    "Obs: Se o dicionario for modificado, automaticamente essas variáveis são modificadas, mesmo tendo sido criadas anteriormente\n",
    "\n",
    "- pop(chave) -> Retira o item do dicionário e retorna o valor dele para ser usado\n",
    "- popitem() -> Retira o último item adicionado ao dicionário\n",
    "- setdefault(chave, valor) -> Retorna o valor da chave passada, mas caso a chave não exista, cria no dicionário o item com a chave e valor passados.\n",
    "- update(dicionario) -> Adiciona o dicionário passado como parâmetro ao dicionário original\n",
    "- values() -> Retorna uma lista com todos os valores do dicionários\n",
    "Obs: Se o dicionario for modificado, automaticamente essas variáveis são modificadas, mesmo tendo sido criadas anteriormente\n",
    "\n",
    "- Dicionário com for\n",
    "for chave in dicionario:\n",
    "    faça alguma coisa\n",
    "\n",
    "O for vai funcionar normal em dict_listas, porque não deixa de ser uma lista de itens que pode ser percorrida (iterable), mas o que aprendemos de lista não necessariamente se aplicam a essas dict_listas.\n",
    "\n",
    "Para transformar as dict_listas em listas normais, usamos a função list:\n",
    "\n",
    "- lista_chaves = list(dicionario.keys())\n",
    "\n",
    "### Transformando Listas em Dicionários e Function zip\n",
    "\n",
    "- Dicionário com valores padrões:\n",
    "\n",
    "dicionario = dict.fromkeys(lista_chaves, valor_padrao)\n",
    "\n",
    "- Dicionário a partir de listas de tuplas:\n",
    "\n",
    "dicionario = dict(lista_tuplas)\n",
    "\n",
    "- Dicionário a partir de 2 listas:\n",
    "\n",
    "Passo 1: Transformar listas em lista de tuplas com o método zip<br>\n",
    "Passo 2: Transformar em dicionario\n",
    "\n",
    "lista_tuplas = zip(lista1, lista2)<br>\n",
    "dicionario = dict(lista_tuplas)"
   ]
  },
  {
   "cell_type": "markdown",
   "metadata": {},
   "source": [
    "#### Exercicio 9\n",
    "Identificando Locais de Risco: construir um programa para identificar níveis de CO2 (gás carbônico) em determinados locais para evitar potenciais acidentes. Em cada um desses locais a sua empresa tem 5 sensores que captam o nível de CO2 do local. Os níveis normais de CO2 são em média 350. O nível de CO2 de um local é dado pela média captada pelos 5 sensores.\n",
    "\n",
    "Isso significa que se tivermos os 5 sensores do Rio de Janeiro marcando: 350, 400, 450, 350, 300, o nível de CO2 do Rio de Janeiro será dado por: (350 + 400 + 450 + 350 + 300) / 5 = 370.\n",
    "\n",
    "Caso o nível seja maior do que 450, um aviso deve ser exibido pelo seu programa dizendo, por exemplo: Rio de Janeiro está com níveis altíssimos de CO2 (490), chamar equipe especializada para verificar a região.\n",
    "\n",
    "Os resultados dos sensores são monitorados frequentemente e são dados para o sistema em forma de dicionário:\n",
    "niveis_co2 = {\n",
    "    'AC': [325,405,429,486,402],\n",
    "    'AL': [492,495,310,407,388],\n",
    "    'AP': [507,503,368,338,400],\n",
    "    'AM': [429,456,352,377,363],\n",
    "    'BA': [321,508,372,490,412],\n",
    "    'CE': [424,328,425,516,480],\n",
    "    'ES': [449,506,461,337,336],\n",
    "    'GO': [425,460,385,485,460],\n",
    "    'MA': [361,310,344,425,490],\n",
    "    'MT': [358,402,425,386,379],\n",
    "    'MS': [324,357,441,405,427],\n",
    "    'MG': [345,367,391,427,516],\n",
    "    'PA': [479,514,392,493,329],\n",
    "    'PB': [418,499,317,302,476],\n",
    "    'PR': [420,508,419,396,327],\n",
    "    'PE': [404,444,495,320,343],\n",
    "    'PI': [513,513,304,377,475],\n",
    "    'RJ': [502,481,492,502,506],\n",
    "    'RN': [446,437,519,356,317],\n",
    "    'RS': [427,518,459,317,321],\n",
    "    'RO': [517,466,512,326,458],\n",
    "    'RR': [466,495,469,495,310],\n",
    "    'SC': [495,436,382,483,479],\n",
    "    'SP': [495,407,362,389,317],\n",
    "    'SE': [508,351,334,389,418],\n",
    "    'TO': [339,490,304,488,419],\n",
    "    'DF': [376,516,320,310,518], \n",
    "}"
   ]
  },
  {
   "cell_type": "code",
   "execution_count": 1,
   "metadata": {},
   "outputs": [
    {
     "name": "stdout",
     "output_type": "stream",
     "text": [
      "RJ está com níveis altíssimos de CO2 (496.6), chamar equipe especializada para verificar a região.\n",
      "RO está com níveis altíssimos de CO2 (455.8), chamar equipe especializada para verificar a região.\n",
      "SC está com níveis altíssimos de CO2 (455.0), chamar equipe especializada para verificar a região.\n"
     ]
    }
   ],
   "source": [
    "niveis_co2 = {\n",
    "    'AC': [325,405,429,486,402],\n",
    "    'AL': [492,495,310,407,388],\n",
    "    'AP': [507,503,368,338,400],\n",
    "    'AM': [429,456,352,377,363],\n",
    "    'BA': [321,508,372,490,412],\n",
    "    'CE': [424,328,425,516,480],\n",
    "    'ES': [449,506,461,337,336],\n",
    "    'GO': [425,460,385,485,460],\n",
    "    'MA': [361,310,344,425,490],\n",
    "    'MT': [358,402,425,386,379],\n",
    "    'MS': [324,357,441,405,427],\n",
    "    'MG': [345,367,391,427,516],\n",
    "    'PA': [479,514,392,493,329],\n",
    "    'PB': [418,499,317,302,476],\n",
    "    'PR': [420,508,419,396,327],\n",
    "    'PE': [404,444,495,320,343],\n",
    "    'PI': [513,513,304,377,475],\n",
    "    'RJ': [502,481,492,502,506],\n",
    "    'RN': [446,437,519,356,317],\n",
    "    'RS': [427,518,459,317,321],\n",
    "    'RO': [517,466,512,326,458],\n",
    "    'RR': [466,495,469,495,310],\n",
    "    'SC': [495,436,382,483,479],\n",
    "    'SP': [495,407,362,389,317],\n",
    "    'SE': [508,351,334,389,418],\n",
    "    'TO': [339,490,304,488,419],\n",
    "    'DF': [376,516,320,310,518], \n",
    "}\n",
    "\n",
    "for estado in niveis_co2:\n",
    "    qtde_sensores = len(niveis_co2[estado])\n",
    "    total_co2 = sum(niveis_co2[estado])\n",
    "    media_co2 = total_co2 / qtde_sensores\n",
    "    if media_co2 > 450:\n",
    "        print('{} está com níveis altíssimos de CO2 ({}), chamar equipe especializada para verificar a região.'.format(estado, media_co2))"
   ]
  },
  {
   "cell_type": "markdown",
   "metadata": {},
   "source": [
    "#### Exercicio 10\n",
    "Case da Hashtag: Recentemente tivemos que fazer backup dos vídeos que temos hospedados no Vimeo. Acontece que não existe um botão de Download de todos os vídeos ao mesmo tempo, precisamos entrar em 1 por 1 e fazer o download manualmente.\n",
    "\n",
    "A alternativa é gerar um código em Python que converse com a API do Vimeo (API é uma integração que as ferramentas abrem para programadores poderem fazer integrações dos seus próprios programas/scripts com a ferramenta).\n",
    "\n",
    "Para resolver isso, a gente fez a integração e fizemos uma \"requisição\" de todos os vídeos para a Vimeo. Essa requisição dá como resposta para o nosso código isso:"
   ]
  },
  {
   "cell_type": "code",
   "execution_count": 2,
   "metadata": {},
   "outputs": [
    {
     "name": "stdout",
     "output_type": "stream",
     "text": [
      "{'uri': '/videos/465407533', 'name': '15 Atalhos no Excel para Ficar Mais Produtivo', 'download': [{'quality': 'source', 'type': 'source', 'width': 1920, 'height': 1080, 'expires': '2020-10-07T04:00:55+00:00', 'link': 'https://player.vimeo.com/play/2064518513?s=465407533_1602043255_5f2f93dd00b66eba66d481f913383b4f&loc=external&context=Vimeo%5CController%5CApi%5CResources%5CUser%5CVideosController.&download=1&filename=15%2BAtalhos%2Bno%2BExcel%2Bpara%2BFicar%2BMais%2BProdutivosource.mp4', 'created_time': '2020-10-06T14:26:17+00:00', 'fps': 30, 'size': 402678442, 'md5': 'af09508ceceed4994554f04e8b931e22', 'public_name': 'Original', 'size_short': '384.02MB'}, {'quality': 'hd', 'type': 'video/mp4', 'width': 1920, 'height': 1080, 'expires': '2020-10-07T04:00:55+00:00', 'link': 'https://player.vimeo.com/play/2064523157?s=465407533_1602043255_ab7b8353c59b5048032396ec5d95a276&loc=external&context=Vimeo%5CController%5CApi%5CResources%5CUser%5CVideosController.&download=1&filename=15%2BAtalhos%2Bno%2BExcel%2Bpara%2BFicar%2BMais%2BProdutivo175.mp4', 'created_time': '2020-10-06T14:29:06+00:00', 'fps': 30, 'size': 173556205, 'md5': '3c05e1e69bd6b13eb1464451033907d2', 'public_name': 'HD 1080p', 'size_short': '165.52MB'}, {'quality': 'sd', 'type': 'video/mp4', 'width': 960, 'height': 540, 'expires': '2020-10-07T04:00:55+00:00', 'link': 'https://player.vimeo.com/play/2064523153?s=465407533_1602043255_f5ac38009ec5c0a13b30600c631446a3&loc=external&context=Vimeo%5CController%5CApi%5CResources%5CUser%5CVideosController.&download=1&filename=15%2BAtalhos%2Bno%2BExcel%2Bpara%2BFicar%2BMais%2BProdutivo165.mp4', 'created_time': '2020-10-06T14:29:06+00:00', 'fps': 30, 'size': 89881848, 'md5': '4a5c5c96cdf18202ed20ca534fd88007', 'public_name': 'SD 540p', 'size_short': '85.72MB'}, {'quality': 'sd', 'type': 'video/mp4', 'width': 426, 'height': 240, 'expires': '2020-10-07T04:00:55+00:00', 'link': 'https://player.vimeo.com/play/2064522788?s=465407533_1602043255_16c69872e2c4e92cc949d0b772242959&loc=external&context=Vimeo%5CController%5CApi%5CResources%5CUser%5CVideosController.&download=1&filename=15%2BAtalhos%2Bno%2BExcel%2Bpara%2BFicar%2BMais%2BProdutivo139.mp4', 'created_time': '2020-10-06T14:28:31+00:00', 'fps': 30, 'size': 27401450, 'md5': '91cc0229087ec94bf67f64b01ad8768d', 'public_name': 'SD 240p', 'size_short': '26.13MB'}, {'quality': 'sd', 'type': 'video/mp4', 'width': 640, 'height': 360, 'expires': '2020-10-07T04:00:55+00:00', 'link': 'https://player.vimeo.com/play/2064522787?s=465407533_1602043255_310b087e2fc8c5e1154ce7a33d10d60e&loc=external&context=Vimeo%5CController%5CApi%5CResources%5CUser%5CVideosController.&download=1&filename=15%2BAtalhos%2Bno%2BExcel%2Bpara%2BFicar%2BMais%2BProdutivo164.mp4', 'created_time': '2020-10-06T14:28:31+00:00', 'fps': 30, 'size': 48627155, 'md5': '548640bf79ce1552a3401726bb0e4224', 'public_name': 'SD 360p', 'size_short': '46.37MB'}]}\n",
      "uri\n",
      "name\n",
      "download\n",
      "https://player.vimeo.com/play/2064518513?s=465407533_1602043255_5f2f93dd00b66eba66d481f913383b4f&loc=external&context=Vimeo%5CController%5CApi%5CResources%5CUser%5CVideosController.&download=1&filename=15%2BAtalhos%2Bno%2BExcel%2Bpara%2BFicar%2BMais%2BProdutivosource.mp4\n"
     ]
    }
   ],
   "source": [
    "video = {'uri': '/videos/465407533', 'name': '15 Atalhos no Excel para Ficar Mais Produtivo', 'download': [{'quality': 'source', 'type': 'source', 'width': 1920, 'height': 1080, 'expires': '2020-10-07T04:00:55+00:00', 'link': 'https://player.vimeo.com/play/2064518513?s=465407533_1602043255_5f2f93dd00b66eba66d481f913383b4f&loc=external&context=Vimeo%5CController%5CApi%5CResources%5CUser%5CVideosController.&download=1&filename=15%2BAtalhos%2Bno%2BExcel%2Bpara%2BFicar%2BMais%2BProdutivosource.mp4', 'created_time': '2020-10-06T14:26:17+00:00', 'fps': 30, 'size': 402678442, 'md5': 'af09508ceceed4994554f04e8b931e22', 'public_name': 'Original', 'size_short': '384.02MB'}, {'quality': 'hd', 'type': 'video/mp4', 'width': 1920, 'height': 1080, 'expires': '2020-10-07T04:00:55+00:00', 'link': 'https://player.vimeo.com/play/2064523157?s=465407533_1602043255_ab7b8353c59b5048032396ec5d95a276&loc=external&context=Vimeo%5CController%5CApi%5CResources%5CUser%5CVideosController.&download=1&filename=15%2BAtalhos%2Bno%2BExcel%2Bpara%2BFicar%2BMais%2BProdutivo175.mp4', 'created_time': '2020-10-06T14:29:06+00:00', 'fps': 30, 'size': 173556205, 'md5': '3c05e1e69bd6b13eb1464451033907d2', 'public_name': 'HD 1080p', 'size_short': '165.52MB'}, {'quality': 'sd', 'type': 'video/mp4', 'width': 960, 'height': 540, 'expires': '2020-10-07T04:00:55+00:00', 'link': 'https://player.vimeo.com/play/2064523153?s=465407533_1602043255_f5ac38009ec5c0a13b30600c631446a3&loc=external&context=Vimeo%5CController%5CApi%5CResources%5CUser%5CVideosController.&download=1&filename=15%2BAtalhos%2Bno%2BExcel%2Bpara%2BFicar%2BMais%2BProdutivo165.mp4', 'created_time': '2020-10-06T14:29:06+00:00', 'fps': 30, 'size': 89881848, 'md5': '4a5c5c96cdf18202ed20ca534fd88007', 'public_name': 'SD 540p', 'size_short': '85.72MB'}, {'quality': 'sd', 'type': 'video/mp4', 'width': 426, 'height': 240, 'expires': '2020-10-07T04:00:55+00:00', 'link': 'https://player.vimeo.com/play/2064522788?s=465407533_1602043255_16c69872e2c4e92cc949d0b772242959&loc=external&context=Vimeo%5CController%5CApi%5CResources%5CUser%5CVideosController.&download=1&filename=15%2BAtalhos%2Bno%2BExcel%2Bpara%2BFicar%2BMais%2BProdutivo139.mp4', 'created_time': '2020-10-06T14:28:31+00:00', 'fps': 30, 'size': 27401450, 'md5': '91cc0229087ec94bf67f64b01ad8768d', 'public_name': 'SD 240p', 'size_short': '26.13MB'}, {'quality': 'sd', 'type': 'video/mp4', 'width': 640, 'height': 360, 'expires': '2020-10-07T04:00:55+00:00', 'link': 'https://player.vimeo.com/play/2064522787?s=465407533_1602043255_310b087e2fc8c5e1154ce7a33d10d60e&loc=external&context=Vimeo%5CController%5CApi%5CResources%5CUser%5CVideosController.&download=1&filename=15%2BAtalhos%2Bno%2BExcel%2Bpara%2BFicar%2BMais%2BProdutivo164.mp4', 'created_time': '2020-10-06T14:28:31+00:00', 'fps': 30, 'size': 48627155, 'md5': '548640bf79ce1552a3401726bb0e4224', 'public_name': 'SD 360p', 'size_short': '46.37MB'}]}\n",
    "print(video)\n",
    "\n",
    "for item in video:\n",
    "    print(item)\n",
    "\n",
    "print(video['download'][0]['link'])"
   ]
  },
  {
   "cell_type": "markdown",
   "metadata": {},
   "source": [
    "#### Exercicio 11\n",
    "Transforme as listas abaixo em 1 único dicionário no formato: \n",
    "dicionario = {\n",
    "    produto: (vendas2019, vendas2020),\n",
    "    produto2: (vendas2019, vendas2020),\n",
    "    produto3: (vendas2019, vendas2020),\n",
    "    ...\n",
    "}\n",
    "- Apesar de parecer \"menos prático\" esse é um procedimento que precisamos nos acostumar a fazer, visto que algumas funções (tema dos próximos módulos) precisam de dicionários para funcionar e saber transformar listas em dicionários (e vice-versa) é uma habilidade muito útil\n",
    "\n",
    "Obs: Lembre do zip para juntar listas.<br>\n",
    "Obs2: Repare que cada item das vendas é na verdade uma lista. Então é provável que você precise fazer esse código em 2 etapas"
   ]
  },
  {
   "cell_type": "code",
   "execution_count": 3,
   "metadata": {},
   "outputs": [
    {
     "name": "stdout",
     "output_type": "stream",
     "text": [
      "{'iphone': (558147, 951642), 'galaxy': (712350, 244295), 'ipad': (573823, 26964), 'tv': (405252, 787604), 'máquina de café': (718654, 867660), 'kindle': (531580, 78830), 'geladeira': (973139, 710331), 'adega': (892292, 646016), 'notebook dell': (422760, 694913), 'notebook hp': (154753, 539704), 'notebook asus': (887061, 324831), 'microsoft surface': (438508, 667179), 'webcam': (237467, 295633), 'caixa de som': (489705, 725316), 'microfone': (328311, 644622), 'câmera canon': (591120, 994303)}\n"
     ]
    }
   ],
   "source": [
    "produtos = ['iphone', 'galaxy', 'ipad', 'tv', 'máquina de café', 'kindle', 'geladeira', 'adega', 'notebook dell', 'notebook hp', 'notebook asus', 'microsoft surface', 'webcam', 'caixa de som', 'microfone', 'câmera canon']\n",
    "vendas2019 = [558147,712350,573823,405252,718654,531580,973139,892292,422760,154753,887061,438508,237467,489705,328311,591120]\n",
    "vendas2020 = [951642,244295,26964,787604,867660,78830,710331,646016,694913,539704,324831,667179,295633,725316,644622,994303]\n",
    "\n",
    "#seu código aqui\n",
    "vendas = list(zip(vendas2019, vendas2020))\n",
    "vendas_produtos = dict(zip(produtos, vendas))\n",
    "print(vendas_produtos)"
   ]
  },
  {
   "cell_type": "markdown",
   "metadata": {},
   "source": [
    "# Python\n",
    "\n",
    "## Condição **if**\n",
    "1. Simples\n",
    "\n",
    "if condição: <br>\n",
    "    o que eu quero fazer caso a condição seja verdadeira <br>\n",
    "else: <br>\n",
    "    o que eu quero fazer caso a condição seja falsa <br>\n",
    "\n",
    "2. Mais de uma condição ao mesmo tempo:\n",
    "\n",
    "if condicao_1:<br>\n",
    "    o que fazer se a condição 1 for verdadeira<br>\n",
    "    if condicao_2:<br>\n",
    "        o que fazer se a condição 1 e 2 for verdadeira<br>\n",
    "    else:<br>\n",
    "        o que fazer se a condição 2 for falsa (mas a condição 1 é verdadeira)<br>\n",
    "else:<br>\n",
    "    o que fazer se a condição 1 for falsa<br>\n",
    "    \n",
    "Obs.1: Cuidado importante: repetição de código. Sempre que possível, evite repetir código. De forma geral:<br>\n",
    "\"Se você está repetindo um código, existe uma forma melhor de fazer\"\n",
    "Obs.2:Sempre que usamos o if ou qualquer outra estrutura no Python, devemos usar a identação para dizer para o Programa onde a estrutura começa e onde ela termina. Isso vai ajudar muito quando tivermos mais de 1 condição ao mesmo tempo e quando tivermos várias ações para fazer dentro de um if.\n",
    "\n",
    "3. Mais de uma condição: elif\n",
    "\n",
    "if condição:<br>\n",
    "    o que fazer se a condição 1 for verdadeira<br>\n",
    "elif condição_2:<br>\n",
    "    o que fazer se a condição 1 for falsa e a condição 2 for verdadeira<br>\n",
    "else:<br>\n",
    "    o que fazer se a condição 1 e a condição 2 forem falsas<br>\n",
    "4. Comparação contraintuitivas\n",
    "\n",
    "* If 0:\n",
    "* If '':"
   ]
  },
  {
   "cell_type": "markdown",
   "metadata": {},
   "source": [
    "#### Exercicio if 1\n",
    "Criando um mini sistema de controle de estoque\n",
    "\n",
    "- Crie um sistema para ser usado pelo time de controle de estoque de um centro de distribuição.\n",
    "- Imagine que ao fim de todo dia, o time conta quantas unidades de produto existem no estoque. Se tivermos um estoque abaixo do estoque permitido para aquela categoria do produto, o time deve ser avisado (print) para fazer um novo pedido daquele produto.\n",
    "- Cada categoria de produto tem um estoque mínimo diferente, segundo a regra abaixo:\n",
    "\n",
    "- alimentos -> Estoque mínimo: 50\n",
    "- bebidas -> Estoque mínimo: 75\n",
    "- limpeza -> Estoque mínimo: 30\n",
    "\n",
    "Para isso vamos criar um programa que pede 3 inputs do usuário: nome do produto, categoria e quantidade atual em estoque. Se o produto tiver abaixo do estoque mínimo da categoria dele, o programa deve printar a mensagem \"Solicitar {produto} à equipe de compras, temos apenas {unidades} em estoque\". Exemplo: Se o usuário preenche os inputs com: bebidas, dolly, 90, o programa não deve exibir nenhuma mensagem. Agora, se o usuário preenche os inputs com: bebidas, guaraná, 60, o programa deve exibir a mensagem \"Solicitar guaraná à equipe de compras, temos apenas 60 unidades em estoque.<br>\n",
    "Obs: lembre de usar o int() para transformar o número inserido pelo usuário no input de string para int.<br>\n",
    "Obs2: Caso o usuário não preencha alguma das 3 informações, o programa deve exibir uma mensagem para avisá-lo de preencher corretamente.<br>\n",
    "\n"
   ]
  },
  {
   "cell_type": "code",
   "execution_count": 5,
   "metadata": {},
   "outputs": [],
   "source": [
    "#Declaração das variaveis (inserção de dados)\n",
    "nome_produto = input('Qual o produto?')\n",
    "categoria = input('Qual a categoria do produto?')\n",
    "qtde = input('Qual a quantidade atual do produto?')"
   ]
  },
  {
   "cell_type": "code",
   "execution_count": 6,
   "metadata": {},
   "outputs": [
    {
     "name": "stdout",
     "output_type": "stream",
     "text": [
      "Solicitar limpeza à equipe de compras, temos apenas 20 unidades em estoque\n"
     ]
    }
   ],
   "source": [
    "if nome_produto and categoria and qtde:\n",
    "    qtde = int(qtde)\n",
    "    if categoria == 'bebidas':\n",
    "        if qtde < 75:\n",
    "            print('Solicitar {} à equipe de compras, temos apenas {} unidades em estoque'.format(nome_produto, qtde))\n",
    "    elif categoria == 'limpeza':\n",
    "        if qtde < 30:\n",
    "            print('Solicitar {} à equipe de compras, temos apenas {} unidades em estoque'.format(nome_produto, qtde))\n",
    "    else:\n",
    "        if qtde < 50:\n",
    "            print('Solicitar {} à equipe de compras, temos apenas {} unidades em estoque'.format(nome_produto, qtde))\n",
    "else:\n",
    "    print('Preencha todas as informações')"
   ]
  },
  {
   "cell_type": "markdown",
   "metadata": {},
   "source": [
    "#### Exercicio if 2\n",
    "Cálculo de Bônus: - Crie um programa que calcule e dê um print no bônus que os funcionários devem receber segundo a regra:<br>\n",
    "- Regra 1:\n",
    "* A meta é 1000 vendas.\n",
    "* Se o valor de vendas for maior ou igual a meta, o valor do bônus do funcionário é 10% do valor de vendas.\n",
    "* Caso contrário o valor de bônus do funcionário é 0.<br>\n",
    "- Regra 2: \n",
    "* A meta é 1000 vendas\n",
    "* Agora, os funcionários que venderem muito acima da meta ganham mais bônus do que os outros. Então o bônus é definido da seguinte forma:\n",
    "    - Se vendas funcionário for maior ou igual a 2000, então o bônus é de 15% sobre o valor de vendas\n",
    "    - Se vendas funcionário for menor do que 2000 e maior ou igual a 1000, então o bônus é de 10% sobre o valor de vendas\n",
    "    - Se vendas funcionário for menos do que 1000 então o bônus do funcionário é de 0."
   ]
  },
  {
   "cell_type": "code",
   "execution_count": 7,
   "metadata": {},
   "outputs": [],
   "source": [
    "vendas_funcionario1 = 1000\n",
    "vendas_funcionario2 = 770\n",
    "vendas_funcionario3 = 2700"
   ]
  },
  {
   "cell_type": "markdown",
   "metadata": {},
   "source": [
    "a) Print o bônus dos 3 funcionários de acordo com a regra 1"
   ]
  },
  {
   "cell_type": "code",
   "execution_count": 8,
   "metadata": {},
   "outputs": [
    {
     "name": "stdout",
     "output_type": "stream",
     "text": [
      "O funcionário 1 ganhou 100.0 de bônus\n",
      "O funcionário 2 ganhou 0 de bônus\n",
      "O funcionário 3 ganhou 270.0 de bônus\n"
     ]
    }
   ],
   "source": [
    "#crie seu código aqui\n",
    "if vendas_funcionario1 >= 1000:\n",
    "    print('O funcionário 1 ganhou {} de bônus'.format(vendas_funcionario1 * 0.1))\n",
    "\n",
    "if vendas_funcionario2 >= 1000:\n",
    "    bonus = vendas_funcionario2 * 0.1\n",
    "else:\n",
    "    bonus = 0\n",
    "print('O funcionário 2 ganhou {} de bônus'.format(bonus))\n",
    "\n",
    "if vendas_funcionario3 >= 1000:\n",
    "    bonus = vendas_funcionario3 * 0.1\n",
    "else:\n",
    "    bonus = 0\n",
    "print('O funcionário 3 ganhou {} de bônus'.format(bonus))"
   ]
  },
  {
   "cell_type": "markdown",
   "metadata": {},
   "source": [
    "b) Print o bônus dos 3 funcionários de acordo com a regra 2"
   ]
  },
  {
   "cell_type": "code",
   "execution_count": 9,
   "metadata": {},
   "outputs": [
    {
     "name": "stdout",
     "output_type": "stream",
     "text": [
      "O funcionário 1 ganhou 100.0 de bônus\n",
      "O funcionário 2 ganhou 0 de bônus\n",
      "O funcionário 3 ganhou 405.0 de bônus\n"
     ]
    }
   ],
   "source": [
    "#obs: há 2 formas de fazer, com if dentro de if ou então com if e elif. Escolha a que você preferir\n",
    "\n",
    "if vendas_funcionario1 >= 1000:\n",
    "    if vendas_funcionario1 >= 2000:\n",
    "        bonus = 0.15 * vendas_funcionario1\n",
    "    else:\n",
    "        bonus = 0.1 * vendas_funcionario1\n",
    "else:\n",
    "    bonus = 0\n",
    "print('O funcionário 1 ganhou {} de bônus'.format(bonus))\n",
    "\n",
    "#2ª maneira -> if e elif\n",
    "\n",
    "if vendas_funcionario2 >= 2000:\n",
    "    bonus = 0.15 * vendas_funcionario2\n",
    "elif vendas_funcionario2 >= 1000:\n",
    "    bonus = 0.1 * vendas_funcionario2\n",
    "else:\n",
    "    bonus = 0\n",
    "print('O funcionário 2 ganhou {} de bônus'.format(bonus))\n",
    "\n",
    "######\n",
    "if vendas_funcionario3 >= 1000:\n",
    "    if vendas_funcionario3 >= 2000:\n",
    "        bonus = 0.15 * vendas_funcionario3\n",
    "    else:\n",
    "        bonus = 0.1 * vendas_funcionario3\n",
    "else:\n",
    "    bonus = 0\n",
    "print('O funcionário 3 ganhou {} de bônus'.format(bonus))"
   ]
  },
  {
   "cell_type": "markdown",
   "metadata": {},
   "source": [
    "# Python\n",
    "\n",
    "## Condição **for**\n",
    "O for no Python consegue percorrer uma lista e a cada \"loop\" retornar o valor do item. Ou seja, o loop do for pega cada elemento da lista atribui à variável um após o outro até que não haja mais elementos na lista.\n",
    "\n",
    "for i in range(n):\n",
    "    repetir código n vezes<br>\n",
    "Obs.1: Precisa de uma variável de contador em um loop, e a variável embutida **range** fornece sequência de números, sendo chamado  fornecendo um unico argumento **stop** ou fornecendo um argumento **start**(inclusivo) e **stop**(exclusivo), com um argumento **step**(determina o tamanho do passo) opcional.\n",
    "for i in range(0, 5, 1):\n",
    "    print(i)\n",
    "\n",
    "Obs.2: Os loops iteram os itens de uma sequencia como lista, uma tupla ou uma string.\n",
    "- Usado com lista<br>\n",
    "for item in lista:\n",
    "    print(item)    \n",
    "- Usado com string<br>\n",
    "for ch in texto:\n",
    "    print(ch)\n",
    "Obs.3: \n",
    "- range(tamanho) -> for i in range(5):\n",
    "- range(inicio, fim) -> for i in range(2, 10):\n",
    "- range(inicio, fim, passo) -> for i in range(0, 1000, 10):\n",
    "\n",
    "## Condição **for + if**\n",
    "for item in lista:\n",
    "    if condicao:\n",
    "        faça alguma coisa\n",
    "    else:\n",
    "        outra coisa\n",
    "\n",
    "## Condição **for** com o **enumerate**\n",
    "O enumerate permite que você percorra uma lista e ao mesmo tempo tenha em uma variável o índice daquele item. Ela é para o caso de precisar de uma variável de contador durante o loop em uma sequência, onde retorna uma sequência de tuplas (index, element). Por padrão o índice começa em zero e é incrementado em um.\n",
    "for i, item in enumerate(lista):\n",
    "    resto do código\n",
    "\n",
    "## Condição **for** dentro de **for**\n",
    "É quando temos listas dentro de listas, às vezes precisamos fazer um \"for dentro de for\".\n",
    "\n",
    "for item in lista: \n",
    "    for item2 in lista2:\n",
    "        codigo aqui\n",
    "## Formas de interromper um **for**\n",
    "- break -> interrompe(sair do loop) e finaliza o for\n",
    "- continue -> interrompe e vai para o próximo item(elemento) do  i de for"
   ]
  },
  {
   "cell_type": "markdown",
   "metadata": {},
   "source": [
    "#### Exercicio de **for** 1\n",
    "Criando um Registro de Hóspedes: Digamos que você está criando o sistema para registrar a chegada de hóspedes em um hotel. No hotel, os hóspedes podem ter quartos com 1, 2, 3 e 4 pessoas. Seu sistema deve conseguir:\n",
    "\n",
    "1. Identificar quantas pessoas o hóspede que acabou de chegar vai ter no quarto (perguntando por meio de input)\n",
    "2. De acordo com a quantidade de pessoas do hóspede, ele deve fazer um for para perguntar o cpf e o nome de cada pessoa, a fim de registrá-la no quarto (2 inputs para cada pessoa, 1 para o cpf e outro para o nome)\n",
    "3. O seu programa então deve gerar uma lista com todas as pessoas que ficarão no quarto em que cada item dessa lista é o nome da pessoa e o cpf da pessoa, assim:\n",
    "quarto = [\n",
    "    ['João', 'cpf:00000000000'],\n",
    "    ['Julia', 'cpf:11111111111'],\n",
    "    ['Marcus', 'cpf:22222222222'],\n",
    "    ['Maria', 'cpf:33333333333'],\n",
    "]"
   ]
  },
  {
   "cell_type": "code",
   "execution_count": 1,
   "metadata": {},
   "outputs": [
    {
     "name": "stdout",
     "output_type": "stream",
     "text": [
      "[['Elizete', 'cpf:06293817397']]\n"
     ]
    }
   ],
   "source": [
    "qtde_pessoas = int(input('Quantas pessoas terão no quarto?'))\n",
    "quarto = []\n",
    "\n",
    "for i in range(qtde_pessoas):\n",
    "    nome = input('Qual o nome?')\n",
    "    cpf = input('Qual o cpf?')\n",
    "    hospede = [nome, 'cpf:{}'.format(cpf)]\n",
    "    quarto.append(hospede)\n",
    "    \n",
    "print(quarto)"
   ]
  },
  {
   "cell_type": "markdown",
   "metadata": {},
   "source": [
    "#### Exercicio de **for** 2\n",
    "Análise de Vendas: fazer uma \"análise simples\" de atingimento de Meta. Temos uma lista com os vendedores e os valores de vendas e queremos identificar (printar) quais os vendedores que bateram a meta e qual foi o valor que eles venderam."
   ]
  },
  {
   "cell_type": "code",
   "execution_count": 2,
   "metadata": {},
   "outputs": [
    {
     "name": "stdout",
     "output_type": "stream",
     "text": [
      "Vendedor João bateu a meta. Fez 15000 vendas\n",
      "Vendedor Julia bateu a meta. Fez 27000 vendas\n",
      "Vendedor Ana bateu a meta. Fez 10300 vendas\n"
     ]
    }
   ],
   "source": [
    "meta = 10000\n",
    "vendas = [\n",
    "    ['João', 15000],\n",
    "    ['Julia', 27000],\n",
    "    ['Marcus', 9900],\n",
    "    ['Maria', 3750],\n",
    "    ['Ana', 10300],\n",
    "    ['Alon', 7870],\n",
    "]\n",
    "\n",
    "for item in vendas:\n",
    "    if item[1] >= meta:\n",
    "        print('Vendedor {} bateu a meta. Fez {} vendas'.format(item[0], item[1]))"
   ]
  },
  {
   "cell_type": "markdown",
   "metadata": {},
   "source": [
    "#### Exercicio de **for** 3\n",
    "Comparação com Ano Anterior: Digamos que você está analisando as vendas de produtos de um ecommerce e quer identificar quais produtos tiveram no ano de 2020 mais vendas do que no ano de 2019, para reportar isso para a diretoria.Sua resposta pode ser um print de cada produto, qual foi a venda de 2019, a venda de 2020 e o % de crescimento de 2020 para 2019.Lembrando, para calcular o % de crescimento de um produto de um ano para o outro, podemos fazer: (vendas_produto2020/vendas_produto2019 - 1)\n",
    "\n",
    "Dica: lembre do enumerate, ele pode facilitar seu \"for\""
   ]
  },
  {
   "cell_type": "code",
   "execution_count": 3,
   "metadata": {},
   "outputs": [
    {
     "name": "stdout",
     "output_type": "stream",
     "text": [
      "iphone vendeu R$558,147 em 2019, R$951,642 em 2020 e teve 70.5% de crescimento\n",
      "tv vendeu R$405,252 em 2019, R$787,604 em 2020 e teve 94.3% de crescimento\n",
      "máquina de café vendeu R$718,654 em 2019, R$867,660 em 2020 e teve 20.7% de crescimento\n",
      "notebook dell vendeu R$422,760 em 2019, R$694,913 em 2020 e teve 64.4% de crescimento\n",
      "notebook hp vendeu R$154,753 em 2019, R$539,704 em 2020 e teve 248.8% de crescimento\n",
      "microsoft surface vendeu R$438,508 em 2019, R$667,179 em 2020 e teve 52.1% de crescimento\n",
      "webcam vendeu R$237,467 em 2019, R$295,633 em 2020 e teve 24.5% de crescimento\n",
      "caixa de som vendeu R$489,705 em 2019, R$725,316 em 2020 e teve 48.1% de crescimento\n",
      "microfone vendeu R$328,311 em 2019, R$644,622 em 2020 e teve 96.3% de crescimento\n",
      "câmera canon vendeu R$591,120 em 2019, R$994,303 em 2020 e teve 68.2% de crescimento\n"
     ]
    }
   ],
   "source": [
    "produtos = ['iphone', 'galaxy', 'ipad', 'tv', 'máquina de café', 'kindle', 'geladeira', 'adega', 'notebook dell', 'notebook hp', 'notebook asus', 'microsoft surface', 'webcam', 'caixa de som', 'microfone', 'câmera canon']\n",
    "vendas2019 = [558147,712350,573823,405252,718654,531580,973139,892292,422760,154753,887061,438508,237467,489705,328311,591120]\n",
    "vendas2020 = [951642,244295,26964,787604,867660,78830,710331,646016,694913,539704,324831,667179,295633,725316,644622,994303]\n",
    "#seu código aqui\n",
    "\n",
    "for i, produto in enumerate(produtos):\n",
    "    if vendas2020[i] > vendas2019[i]:\n",
    "        crescimento = vendas2020[i] / vendas2019[i] - 1\n",
    "        print('{} vendeu R${:,} em 2019, R${:,} em 2020 e teve {:.1%} de crescimento'.format(produto, vendas2019[i], vendas2020[i], crescimento))"
   ]
  },
  {
   "cell_type": "markdown",
   "metadata": {},
   "source": [
    "#### Exercicio de **for** 5\n",
    "Calculando % de uma lista\n",
    "\n",
    "Faremos algo parecido com \"filtrar\" uma lista. Mais pra frente no curso aprenderemos outras formas de fazer isso, mas com o nosso conhecimentoa atual já conseguimos resolver o desafio.\n",
    "\n",
    "Digamos que a gente tenha uma lista de vendedores e ao invés de saber todos os vendedores que bateram a meta, eu quero conseguir calcular o % de vendedores que bateram a meta. Ou seja, se temos 10 vendedores e 3 bateram a meta, temos 30% dos vendedores que bateram a meta."
   ]
  },
  {
   "cell_type": "code",
   "execution_count": 4,
   "metadata": {},
   "outputs": [],
   "source": [
    "meta = 10000\n",
    "vendas = [\n",
    "    ['João', 15000],\n",
    "    ['Julia', 27000],\n",
    "    ['Marcus', 9900],\n",
    "    ['Maria', 3750],\n",
    "    ['Ana', 10300],\n",
    "    ['Alon', 7870],\n",
    "]"
   ]
  },
  {
   "cell_type": "markdown",
   "metadata": {},
   "source": [
    "a)Resolver criando uma lista auxiliar apenas com os vendedores que bateram a meta"
   ]
  },
  {
   "cell_type": "code",
   "execution_count": 5,
   "metadata": {},
   "outputs": [
    {
     "name": "stdout",
     "output_type": "stream",
     "text": [
      "[['João', 15000], ['Julia', 27000], ['Ana', 10300]]\n",
      "50.0% dos vendedores bateram a meta\n"
     ]
    }
   ],
   "source": [
    "#criando lista auxiliar\n",
    "acima_meta = []\n",
    "\n",
    "for venda in vendas:\n",
    "    if venda[1] >= meta:\n",
    "        acima_meta.append(venda)\n",
    "        \n",
    "print(acima_meta)\n",
    "print('{:.1%} dos vendedores bateram a meta'.format(len(acima_meta) / len(vendas)))"
   ]
  },
  {
   "cell_type": "markdown",
   "metadata": {},
   "source": [
    "b)Fazendo o cálculo diretamente na lista que já temos"
   ]
  },
  {
   "cell_type": "code",
   "execution_count": 6,
   "metadata": {},
   "outputs": [
    {
     "name": "stdout",
     "output_type": "stream",
     "text": [
      "50.0% dos vendedores bateram a meta\n"
     ]
    }
   ],
   "source": [
    "#cálculo diretamente na lista\n",
    "qtde_vendedores_acima = 0\n",
    "\n",
    "for venda in vendas:\n",
    "    if venda[1] >= meta:\n",
    "        qtde_vendedores_acima += 1\n",
    "        \n",
    "print('{:.1%} dos vendedores bateram a meta'.format(qtde_vendedores_acima / len(vendas)))"
   ]
  },
  {
   "cell_type": "markdown",
   "metadata": {},
   "source": [
    "c)Quem foi o vendedor que mais vendeu?"
   ]
  },
  {
   "cell_type": "code",
   "execution_count": 7,
   "metadata": {},
   "outputs": [
    {
     "name": "stdout",
     "output_type": "stream",
     "text": [
      "O melhor vendedor foi Julia com 27000 vendas\n"
     ]
    }
   ],
   "source": [
    "melhor_vendedor = ''\n",
    "maior_vendas = 0\n",
    "\n",
    "for venda in vendas:\n",
    "    if venda[1] > maior_vendas:\n",
    "        maior_vendas = venda[1]\n",
    "        melhor_vendedor = venda[0]\n",
    "        \n",
    "print('O melhor vendedor foi {} com {} vendas'.format(melhor_vendedor, maior_vendas))"
   ]
  },
  {
   "cell_type": "markdown",
   "metadata": {},
   "source": [
    "# Python\n",
    "\n",
    "## Condição **while**\n",
    "O while é usado quando queremos repetir um código de forma indeterminada até uma condição se tornar verdadeira/falsa. A lógica é: enquanto a condição for verdadeira, o while executa o código. Assim que ela terminar de ser verdadeira, o código \"sai\" do while.<br>\n",
    "while condicao:\n",
    "    repete esse código\n",
    "\n",
    "Obs.: Sempre que for usar o comando while, lembre-se de ter certeza que o programa vai terminar em algum momento"
   ]
  },
  {
   "cell_type": "markdown",
   "metadata": {},
   "source": [
    "#### Exercicio **while**\n",
    "Input até o usuário parar\n",
    "\n",
    "Vamos criar um sistema de vendas. Nosso programa deve registrar os produtos e as quantidades (2 inputs) e adicionar em uma lista.\n",
    "\n",
    "O programa deve continuar rodando até o input ser vazio, ou seja, o usuário apertar enter sem digitar nenhum produto ou quantidade.\n",
    "\n",
    "Ao final do programa, ele deve printar todos os produtos e quantidades vendidas.\n",
    "\n",
    "Obs: Caso queira, para o print ficar mais visual, pode usar o join para cada item ser printado em uma linha.\n",
    "Sugestão para sua lista de produtos vendidos:"
   ]
  },
  {
   "cell_type": "code",
   "execution_count": null,
   "metadata": {},
   "outputs": [],
   "source": [
    "vendas = []\n",
    "\n",
    "while True:\n",
    "    produto = input('Qual o produto?')\n",
    "    if not produto:\n",
    "        break\n",
    "    qtde = int(input('Qual a quantidade?'))\n",
    "    vendas.append([produto, qtde])\n",
    "    \n",
    "print(vendas)"
   ]
  }
 ],
 "metadata": {
  "kernelspec": {
   "display_name": "base",
   "language": "python",
   "name": "python3"
  },
  "language_info": {
   "codemirror_mode": {
    "name": "ipython",
    "version": 3
   },
   "file_extension": ".py",
   "mimetype": "text/x-python",
   "name": "python",
   "nbconvert_exporter": "python",
   "pygments_lexer": "ipython3",
   "version": "3.12.4"
  }
 },
 "nbformat": 4,
 "nbformat_minor": 2
}
